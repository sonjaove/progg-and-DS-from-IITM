{
  "nbformat": 4,
  "nbformat_minor": 0,
  "metadata": {
    "colab": {
      "provenance": [],
      "include_colab_link": true
    },
    "kernelspec": {
      "name": "python3",
      "display_name": "Python 3"
    },
    "language_info": {
      "name": "python"
    }
  },
  "cells": [
    {
      "cell_type": "markdown",
      "metadata": {
        "id": "view-in-github",
        "colab_type": "text"
      },
      "source": [
        "<a href=\"https://colab.research.google.com/github/sonjaove/progg-and-DS-from-IITM/blob/ML/Week6_programming_ques.ipynb\" target=\"_parent\"><img src=\"https://colab.research.google.com/assets/colab-badge.svg\" alt=\"Open In Colab\"/></a>"
      ]
    },
    {
      "cell_type": "code",
      "execution_count": 1,
      "metadata": {
        "id": "3TDibK0Yrxm_"
      },
      "outputs": [],
      "source": [
        "import numpy as np\n",
        "import matplotlib.pyplot as plt\n"
      ]
    },
    {
      "cell_type": "markdown",
      "source": [
        "# Week-6\n",
        "\n",
        "**Note:**:\n",
        "\n",
        "- For questions that involve plotting, just enter $0$ as the answer in the portal.\n",
        "\n"
      ],
      "metadata": {
        "id": "1TBHlt7hAdN1"
      }
    },
    {
      "cell_type": "markdown",
      "source": [
        "## Dataset\n",
        "\n",
        "Run the cell given below to generate the data-matrix $X$ and target vector $y$. $X$ is of shape $(n, d)$, where $n$ denotes the number of samples and $d$ denotes the number of features. $y$ is of shape $(n,)$. You will be using this dataset for the rest of the assignment.\n",
        "\n",
        "**Do not edit this cell.**"
      ],
      "metadata": {
        "id": "XJKrscLo9qwH"
      }
    },
    {
      "cell_type": "code",
      "source": [
        "from sklearn.datasets import load_diabetes\n",
        "X, y = load_diabetes(return_X_y = True)\n",
        "\n",
        "# set the random seed value to 0\n",
        "np.random.seed(0)"
      ],
      "metadata": {
        "id": "GIygEzr49Xvf"
      },
      "execution_count": 2,
      "outputs": []
    },
    {
      "cell_type": "markdown",
      "source": [
        "## Problem 1\n",
        "How many samples are there in the dataset?\n",
        "\n"
      ],
      "metadata": {
        "id": "VAONMkaU91v7"
      }
    },
    {
      "cell_type": "markdown",
      "source": [
        "## Solution"
      ],
      "metadata": {
        "id": "LnXmn5t-V8Us"
      }
    },
    {
      "cell_type": "code",
      "source": [
        "# Write your solution code here\n",
        "X.shape"
      ],
      "metadata": {
        "id": "U_WEAtwXDqVF",
        "outputId": "846263cb-eed1-4829-905a-7198cb06fd8c",
        "colab": {
          "base_uri": "https://localhost:8080/"
        }
      },
      "execution_count": 4,
      "outputs": [
        {
          "output_type": "execute_result",
          "data": {
            "text/plain": [
              "(442, 10)"
            ]
          },
          "metadata": {},
          "execution_count": 4
        }
      ]
    },
    {
      "cell_type": "markdown",
      "source": [
        "## Problem 2\n",
        "\n",
        "How many features are there in the dataset?\n",
        "\n"
      ],
      "metadata": {
        "id": "ozjMS6e_91y3"
      }
    },
    {
      "cell_type": "markdown",
      "source": [
        "## Solution"
      ],
      "metadata": {
        "id": "xvFvIHN9V_s7"
      }
    },
    {
      "cell_type": "code",
      "source": [
        "# Write your solution code here\n",
        "X.shape"
      ],
      "metadata": {
        "id": "ii_yZn4N-Di8",
        "outputId": "45461576-24e9-478f-da27-38a936e1cc55",
        "colab": {
          "base_uri": "https://localhost:8080/"
        }
      },
      "execution_count": 5,
      "outputs": [
        {
          "output_type": "execute_result",
          "data": {
            "text/plain": [
              "(442, 10)"
            ]
          },
          "metadata": {},
          "execution_count": 5
        }
      ]
    },
    {
      "cell_type": "markdown",
      "source": [
        "## Problem 3\n",
        "Write a function `shuffle_data(X, y)` that returns the shuffled $X$ and $y$.\n",
        "\n",
        "Note that it should shuffle the data pairs $(x_i, y_i)$.\n",
        "\n",
        "What will be the mean of the first 5 values in $y$?\n",
        "\n"
      ],
      "metadata": {
        "id": "HxIZaojUVGIL"
      }
    },
    {
      "cell_type": "code",
      "source": [
        "# Write your solution code here\n",
        "def shuffle_data(X, y):\n",
        "    indices = np.arange(X.shape[0])\n",
        "    np.random.shuffle(indices)\n",
        "    return X[indices], y[indices]"
      ],
      "metadata": {
        "id": "uLGsJyGkdgug"
      },
      "execution_count": 6,
      "outputs": []
    },
    {
      "cell_type": "markdown",
      "source": [
        "## Problem 4\n",
        "\n",
        "Write a function `train_test_split(X, y, test_size)` that divides the data (X, y) into $X_{train}$, $X_{test}$, $y_{train}$, $y_{test}$ respectively as per test_size which should be a value between 0 and 1.\n",
        "\n",
        "That is, if test_size = $t$, then `int(t*n)` data points should go to test and the remaining data points should go to train.\n",
        "\n",
        "$X_{train}$, $X_{test}$, $y_{train}$, $y_{test}$ should be returned by the function.\n",
        "\n",
        "Set the test_size to be 0.25 and output the sum of all y values settling in $y_{test}$.\n",
        "\n",
        "\n",
        "\n",
        "\n",
        "\n",
        "\n"
      ],
      "metadata": {
        "id": "pfsUsn_8WSXZ"
      }
    },
    {
      "cell_type": "code",
      "source": [
        "# Write your solution code here\n",
        "def train_test_split(X, y, test_size=0.25):\n",
        "    n = X.shape[0]\n",
        "    test_count = int(test_size * n)\n",
        "\n",
        "    # Shuffle the data first\n",
        "    X, y = shuffle_data(X, y)\n",
        "\n",
        "    # Split the data\n",
        "    X_train, X_test = X[:-test_count], X[-test_count:]\n",
        "    y_train, y_test = y[:-test_count], y[-test_count:]\n",
        "\n",
        "    return X_train, X_test, y_train, y_test\n",
        "\n",
        "X_train, X_test, y_train, y_test = train_test_split(X, y, test_size=0.25)\n",
        "sum_y_test = np.sum(y_test)\n",
        "print(sum_y_test)"
      ],
      "metadata": {
        "id": "Y5VZVbT8dg2b",
        "outputId": "3857bcb8-64a5-4a86-f0ca-70b997e2a83e",
        "colab": {
          "base_uri": "https://localhost:8080/"
        }
      },
      "execution_count": 7,
      "outputs": [
        {
          "output_type": "stream",
          "name": "stdout",
          "text": [
            "16960.0\n"
          ]
        }
      ]
    },
    {
      "cell_type": "markdown",
      "source": [
        "## Problem 5\n",
        "\n",
        "What are the shapes of $X_{train}$, $X_{test}$, $y_{train}$, $y_{test}$ respectively?\n",
        "\n"
      ],
      "metadata": {
        "id": "D67g0r9ad8Ea"
      }
    },
    {
      "cell_type": "code",
      "source": [
        "# Write your solution code here\n",
        "X_train, X_test, y_train, y_test = train_test_split(X, y, test_size=0.25)\n",
        "\n",
        "print(\"X_train shape:\", X_train.shape)\n",
        "print(\"X_test shape:\", X_test.shape)\n",
        "print(\"y_train shape:\", y_train.shape)\n",
        "print(\"y_test shape:\", y_test.shape)"
      ],
      "metadata": {
        "id": "kTPAakKblF7q",
        "outputId": "9d673028-ff00-44a2-af80-2fffef938af2",
        "colab": {
          "base_uri": "https://localhost:8080/"
        }
      },
      "execution_count": 8,
      "outputs": [
        {
          "output_type": "stream",
          "name": "stdout",
          "text": [
            "X_train shape: (332, 10)\n",
            "X_test shape: (110, 10)\n",
            "y_train shape: (332,)\n",
            "y_test shape: (110,)\n"
          ]
        }
      ]
    },
    {
      "cell_type": "markdown",
      "source": [
        "## Problem 6\n",
        "Add a dummy feature, i.e., a column containing all 1's (as the first column) in $X_{train}$ and $X_{test}$.\n",
        "\n",
        "Take the transpose of both $X_{train}$ and $X_{test}$.\n",
        "\n",
        "What are the shapes of $X_{train}$ and $X_{test}$?\n",
        "\n"
      ],
      "metadata": {
        "id": "nYgSo6DLe0n-"
      }
    },
    {
      "cell_type": "code",
      "source": [
        "# Write your solution code here\n",
        "def add_dummy_feature(X):\n",
        "    ones_column = np.ones((X.shape[0], 1))\n",
        "    return np.hstack((ones_column, X))\n",
        "\n",
        "# Add dummy feature\n",
        "X_train, X_test, y_train, y_test = train_test_split(X, y, test_size=0.25)\n",
        "X_train = add_dummy_feature(X_train)\n",
        "X_test = add_dummy_feature(X_test)\n",
        "\n",
        "# Transpose X_train and X_test\n",
        "# X_train = X_train.T\n",
        "# X_test = X_test.T\n",
        "\n",
        "# Print the shapes of X_train and X_test\n",
        "print(\"X_train shape:\", X_train.shape)\n",
        "print(\"X_test shape:\", X_test.shape)"
      ],
      "metadata": {
        "id": "Lgv2V9qnnNv3",
        "outputId": "2039c45d-ac37-413e-c1c5-f29f9825b3b7",
        "colab": {
          "base_uri": "https://localhost:8080/"
        }
      },
      "execution_count": 20,
      "outputs": [
        {
          "output_type": "stream",
          "name": "stdout",
          "text": [
            "X_train shape: (332, 11)\n",
            "X_test shape: (110, 11)\n"
          ]
        }
      ]
    },
    {
      "cell_type": "markdown",
      "source": [
        "## Problem 7\n",
        "\n",
        "Write a function `compute_weights(X, y)` that uses the closed form formula of linear regression and returns a weight vector.\n",
        "\n",
        "Call this function by passing $X_{train}$ and $y_{train}$. As the dummy feature was added as the first column, the first value in the weight vector will be the intercept. What is its value (rounded to one decimal place)?\n",
        "\n"
      ],
      "metadata": {
        "id": "mYY6hNkYf7gr"
      }
    },
    {
      "cell_type": "code",
      "source": [
        "# Write your solution code here\n",
        "def compute_weights(X, y):\n",
        "    # Ensure y is a column vector (2D)\n",
        "    if len(y.shape) == 1:\n",
        "        y = y.reshape(-1, 1)\n",
        "\n",
        "    # Compute (X^T X)^-1 X^T y\n",
        "    X_T_X_inv = np.linalg.inv(X.T @ X)\n",
        "    weights = X_T_X_inv @ X.T @ y\n",
        "    return weights\n",
        "\n",
        "weights = compute_weights(X_train.T, y_train.T)\n",
        "\n",
        "# Get the intercept (first value of the weight vector)\n",
        "intercept = weights[0]\n",
        "print(f\"Intercept (rounded to 1 decimal place): {round(intercept[0], 1)}\")\n"
      ],
      "metadata": {
        "id": "XWxPR8N5nc17",
        "outputId": "0be0bcda-9b1c-42fd-dabf-6b183142f179",
        "colab": {
          "base_uri": "https://localhost:8080/"
        }
      },
      "execution_count": 14,
      "outputs": [
        {
          "output_type": "stream",
          "name": "stdout",
          "text": [
            "Intercept (rounded to 1 decimal place): 152.3\n"
          ]
        }
      ]
    },
    {
      "cell_type": "markdown",
      "source": [
        "## Problem 8\n",
        "\n",
        "Write a function `MSE(X, y, w)` that returns the mean squared error for the given `X`, `y` as per `w` values.\n",
        "\n",
        "Using this function, compute the train error and test error.\n",
        "\n",
        "Note: Here `y` is the true `y` for `X`.\n",
        "\n",
        "Compute both train and test error.\n",
        "\n",
        "What is the value of test error?\n"
      ],
      "metadata": {
        "id": "XUKviVRZoh2j"
      }
    },
    {
      "cell_type": "code",
      "source": [
        "# Write your solution code here\n",
        "def MSE(X, y, w):\n",
        "    # Ensure y is a column vector\n",
        "    if len(y.shape) == 1:\n",
        "        y = y.reshape(-1, 1)\n",
        "\n",
        "    # Predicted values (no transpose here, X is already transposed)\n",
        "    y_pred = X @ w\n",
        "\n",
        "    # Compute MSE\n",
        "    mse = np.mean((y - y_pred) ** 2)\n",
        "    return mse\n",
        "\n",
        "train_error = MSE(X_train.T, y_train, weights)\n",
        "test_error = MSE(X_test.T, y_test, weights)\n",
        "\n",
        "print(f\"Train error: {train_error}\")\n",
        "print(f\"Test error: {test_error}\")"
      ],
      "metadata": {
        "id": "PkAULslJD48q",
        "outputId": "9ea7030f-b890-4e8e-931f-4ca244d725db",
        "colab": {
          "base_uri": "https://localhost:8080/"
        }
      },
      "execution_count": 18,
      "outputs": [
        {
          "output_type": "stream",
          "name": "stdout",
          "text": [
            "Train error: 3005.9569125216594\n",
            "Test error: 2449.276750569032\n"
          ]
        }
      ]
    },
    {
      "cell_type": "markdown",
      "source": [
        "## Problem 9\n",
        "\n",
        "Write a function `compute_weights_ridge(X, y)` that uses the closed form formula of Ridge regression and returns a weight vector.\n",
        "\n",
        "Call this function by passing  `X_train`, `y_train` and 0.3 as the value of regularization strength.\n",
        "\n",
        "\n",
        "Find the sum of values in the weight vector obtained. How much reduction in total sum of weights is achieved with respect to the the weight vector obtained from 'plain' linear regression (without regularization) computed earlier.\n"
      ],
      "metadata": {
        "id": "mZZVbejulHyv"
      }
    },
    {
      "cell_type": "code",
      "source": [
        "import numpy as np\n",
        "\n",
        "def compute_weights_ridge(X, y, reg_strength=0.3):\n",
        "    # Ensure y is a column vector\n",
        "    if len(y.shape) == 1:\n",
        "        y = y.reshape(-1, 1)\n",
        "\n",
        "    # Identity matrix of size (number of features)\n",
        "    n_features = X.shape[1]\n",
        "    I = np.eye(n_features)\n",
        "\n",
        "    # Compute the Ridge regression weights: (X^T X + λI)^(-1) X^T y\n",
        "    X_T_X_inv = np.linalg.inv(X.T @ X + reg_strength * I)\n",
        "    weights = X_T_X_inv @ X.T @ y\n",
        "    return weights\n",
        "\n",
        "\n",
        "\n",
        "# Compute plain linear regression weights\n",
        "weights_plain = compute_weights(X_train, y_train)\n",
        "\n",
        "# Compute Ridge regression weights with regularization strength 0.3\n",
        "weights_ridge = compute_weights_ridge(X_train, y_train, reg_strength=0.3)\n",
        "\n",
        "# Sum of values in the weight vectors\n",
        "sum_weights_plain = np.sum(weights_plain)\n",
        "sum_weights_ridge = np.sum(weights_ridge)\n",
        "\n",
        "# Reduction in sum of weights\n",
        "reduction = sum_weights_plain - sum_weights_ridge\n",
        "\n",
        "print(f\"Sum of weights (plain): {sum_weights_plain}\")\n",
        "print(f\"Sum of weights (ridge): {sum_weights_ridge}\")\n",
        "print(f\"Reduction in sum of weights: {reduction}\")\n"
      ],
      "metadata": {
        "id": "LCyCWK9dqZm1",
        "outputId": "192c782f-d47d-4be2-842b-59a82b98b425",
        "colab": {
          "base_uri": "https://localhost:8080/"
        }
      },
      "execution_count": 22,
      "outputs": [
        {
          "output_type": "stream",
          "name": "stdout",
          "text": [
            "Sum of weights (plain): 1656.7656777442646\n",
            "Sum of weights (ridge): 934.4082047244019\n",
            "Reduction in sum of weights: 722.3574730198627\n"
          ]
        }
      ]
    },
    {
      "cell_type": "markdown",
      "source": [
        "## Problem 10\n",
        "\n",
        "Compute the train error and test error. What is their absolute difference?\n",
        "\n"
      ],
      "metadata": {
        "id": "LC9Au6sPt1oT"
      }
    },
    {
      "cell_type": "code",
      "source": [
        "# Write your solution code here\n",
        "# Compute the train error and test error using the Ridge regression weights\n",
        "train_error_ridge = MSE(X_train, y_train, weights_ridge)\n",
        "test_error_ridge = MSE(X_test, y_test, weights_ridge)\n",
        "\n",
        "# Compute the absolute difference between train and test errors\n",
        "absolute_difference = abs(train_error_ridge - test_error_ridge)\n",
        "\n",
        "print(f\"Train error (ridge): {train_error_ridge}\")\n",
        "print(f\"Test error (ridge): {test_error_ridge}\")\n",
        "print(f\"Absolute difference: {absolute_difference}\")\n"
      ],
      "metadata": {
        "id": "iOUjJJpZ3BaZ",
        "outputId": "08875bd2-ad45-42c6-ddae-896f31ac192b",
        "colab": {
          "base_uri": "https://localhost:8080/"
        }
      },
      "execution_count": 23,
      "outputs": [
        {
          "output_type": "stream",
          "name": "stdout",
          "text": [
            "Train error (ridge): 2911.7379394678933\n",
            "Test error (ridge): 3340.4844092098056\n",
            "Absolute difference: 428.7464697419123\n"
          ]
        }
      ]
    },
    {
      "cell_type": "markdown",
      "source": [
        "## Problem 11\n",
        "\n",
        "Use 10 different values between 0 and 5 as the regularization strength and keep a record of the weight vectors obtained for each. Further, calculate the sum of weights for each weight vector.\n",
        "\n",
        "Plot these sums of weights (on y-axis) with respect to the regularization strength (on x-axis) and observe the reduction in (sum of) weights.\n",
        "\n"
      ],
      "metadata": {
        "id": "Wn6-FG5puh8O"
      }
    },
    {
      "cell_type": "code",
      "source": [
        "# Write your solution code here\n",
        "import numpy as np\n",
        "import matplotlib.pyplot as plt\n",
        "\n",
        "# Generate 10 values between 0 and 5 for regularization strength\n",
        "regularization_strengths = np.linspace(0, 5, 10)\n",
        "\n",
        "# List to store the sum of weights for each regularization strength\n",
        "sums_of_weights = []\n",
        "\n",
        "# Calculate the weights and their sum for each regularization strength\n",
        "for reg_strength in regularization_strengths:\n",
        "    weights_ridge = compute_weights_ridge(X_train, y_train, reg_strength=reg_strength)\n",
        "    sum_weights_ridge = np.sum(weights_ridge)\n",
        "    sums_of_weights.append(sum_weights_ridge)\n",
        "\n",
        "# Plot the sum of weights against the regularization strength\n",
        "plt.plot(regularization_strengths, sums_of_weights, marker='o')\n",
        "plt.xlabel(\"Regularization Strength\")\n",
        "plt.ylabel(\"Sum of Weights\")\n",
        "plt.title(\"Sum of Weights vs Regularization Strength\")\n",
        "plt.grid(True)\n",
        "plt.show()"
      ],
      "metadata": {
        "id": "zlzueWYWwtSi",
        "outputId": "bc99fc0a-aaae-4ba1-edfa-392254ade9b8",
        "colab": {
          "base_uri": "https://localhost:8080/",
          "height": 472
        }
      },
      "execution_count": 24,
      "outputs": [
        {
          "output_type": "display_data",
          "data": {
            "text/plain": [
              "<Figure size 640x480 with 1 Axes>"
            ],
            "image/png": "[encoded data removed]"
          },
          "metadata": {}
        }
      ]
    }
  ]
}