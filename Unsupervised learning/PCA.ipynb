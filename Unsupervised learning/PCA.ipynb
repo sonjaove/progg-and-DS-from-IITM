{
 "cells": [
  {
   "cell_type": "markdown",
   "metadata": {},
   "source": [
    "# performing PCA on some dataset."
   ]
  },
  {
   "cell_type": "code",
   "execution_count": null,
   "metadata": {},
   "outputs": [],
   "source": [
    "import os\n",
    "from kaggle.api.kaggle_api_extended import KaggleApi\n",
    "\n",
    "# Set up the Kaggle API client\n",
    "api = KaggleApi()\n",
    "api.authenticate()\n",
    "\n",
    "# Download the dataset\n",
    "dataset = 'paulbrabban/daily-minimum-temperatures-in-melbourne'\n",
    "api.dataset_download_files(dataset, path='.', unzip=True)\n",
    "\n",
    "file_path = r'C:\\Users\\Ankit\\Documents\\Vedanshi\\IISERB-ML-DL-course\\answers\\daily-minimum-temperatures-in-me.csv'\n",
    "df = pd.read_csv(file_path, header=0, on_bad_lines='skip', names=['Date','min_temp'])\n",
    "df['Date'] = pd.to_datetime(df['Date'])\n",
    "df['min_temp'] = pd.to_numeric(df['min_temp'], errors='coerce') \n",
    "df.head()"
   ]
  }
 ],
 "metadata": {
  "language_info": {
   "name": "python"
  }
 },
 "nbformat": 4,
 "nbformat_minor": 2
}
