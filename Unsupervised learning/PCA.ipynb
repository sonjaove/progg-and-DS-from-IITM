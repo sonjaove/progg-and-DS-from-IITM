{
 "cells": [
  {
   "cell_type": "markdown",
   "metadata": {},
   "source": [
    "# performing PCA on some dataset."
   ]
  },
  {
   "cell_type": "code",
   "execution_count": 2,
   "metadata": {},
   "outputs": [],
   "source": [
    "import numpy as np"
   ]
  },
  {
   "cell_type": "code",
   "execution_count": 3,
   "metadata": {},
   "outputs": [],
   "source": [
    "# making the function or class for performig the pca from scratch\n",
    "class PCA_linear:\n",
    "    def __init__(self,x):\n",
    "        self.x=x\n",
    "    #defining the function for Wi's\n",
    "    def Wi(self):\n",
    "        #making the data zero mean\n",
    "        self.x-=np.mean(self.x,axis=0)\n",
    "        a=self.x.T@self.x\n",
    "        #finding the eigen values and eigen vectors\n",
    "        values,vectors=np.linalg.eig(a)\n",
    "        alphas=vectors/np.sqrt(values)\n",
    "        return self.x@alphas\n",
    "    def components(self):\n",
    "        self.x=(self.x.T@self.Wi())@self.Wi()\n",
    "        return self.x\n",
    "    def retention(self):\n",
    "        return (np.sum(np.diag(self.components()))/np.sum(np.diag(self.x)))*100"
   ]
  },
  {
   "cell_type": "code",
   "execution_count": null,
   "metadata": {},
   "outputs": [],
   "source": []
  }
 ],
 "metadata": {
  "kernelspec": {
   "display_name": "base",
   "language": "python",
   "name": "python3"
  },
  "language_info": {
   "codemirror_mode": {
    "name": "ipython",
    "version": 3
   },
   "file_extension": ".py",
   "mimetype": "text/x-python",
   "name": "python",
   "nbconvert_exporter": "python",
   "pygments_lexer": "ipython3",
   "version": "3.12.3"
  }
 },
 "nbformat": 4,
 "nbformat_minor": 2
}
