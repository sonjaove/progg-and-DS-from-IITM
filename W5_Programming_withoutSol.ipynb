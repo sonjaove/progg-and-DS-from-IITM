{
  "nbformat": 4,
  "nbformat_minor": 0,
  "metadata": {
    "colab": {
      "provenance": [],
      "collapsed_sections": [
        "uBUor5KWp3_Q",
        "FSDbBz7ucm_a",
        "5eh8cI4PeVEb"
      ],
      "include_colab_link": true
    },
    "kernelspec": {
      "name": "python3",
      "display_name": "Python 3"
    },
    "language_info": {
      "name": "python"
    }
  },
  "cells": [
    {
      "cell_type": "markdown",
      "metadata": {
        "id": "view-in-github",
        "colab_type": "text"
      },
      "source": [
        "<a href=\"https://colab.research.google.com/github/sonjaove/progg-and-DS-from-IITM/blob/ML/W5_Programming_withoutSol.ipynb\" target=\"_parent\"><img src=\"https://colab.research.google.com/assets/colab-badge.svg\" alt=\"Open In Colab\"/></a>"
      ]
    },
    {
      "cell_type": "markdown",
      "source": [
        "## Importing the libraries"
      ],
      "metadata": {
        "id": "WT2nf7VJXHsH"
      }
    },
    {
      "cell_type": "code",
      "execution_count": 9,
      "metadata": {
        "id": "0kgvCN0n3_1p"
      },
      "outputs": [],
      "source": [
        "import numpy as np\n",
        "import matplotlib.pyplot as plt"
      ]
    },
    {
      "cell_type": "markdown",
      "source": [
        "This assignments has two sections:\n",
        "* Linear Regression\n",
        "* Kernel Regression\n",
        "\n",
        "\n"
      ],
      "metadata": {
        "id": "iBY90BqPXO31"
      }
    },
    {
      "cell_type": "markdown",
      "source": [
        "# Section 1:\n",
        "\n",
        "**Linear Regression**"
      ],
      "metadata": {
        "id": "X1nmn2q15Vzn"
      }
    },
    {
      "cell_type": "markdown",
      "source": [
        "We will use the Boston_housing dataset for the regression problem. Run the below cell to get the following variables:\n",
        "* `Training_data` = Training data matrix of shape $(n, d)$\n",
        "* `labels` = label vector corresponding to the training data\n",
        "* `test_data` = Test data matrix of shape $(n_1, d)$ where $n_1$ is the number of examples in test dataset.\n",
        "* `test_labels` = label vector corresponding to the test data\n",
        "\n",
        "Use this dataset for the regression problem."
      ],
      "metadata": {
        "id": "aComJ_Fd5dnI"
      }
    },
    {
      "cell_type": "code",
      "source": [
        "from keras.datasets import boston_housing\n",
        "Train, test = boston_housing.load_data(seed= 111)\n",
        "Training_data, labels = Train[0], Train[1]\n",
        "Test_data, test_labels = test[0], test[1]"
      ],
      "metadata": {
        "id": "53UCtcH64nsC"
      },
      "execution_count": 10,
      "outputs": []
    },
    {
      "cell_type": "markdown",
      "source": [
        "## Question 1\n",
        "How many examples are there in the training dataset?\n",
        "\n"
      ],
      "metadata": {
        "id": "R0Dnj-Qha47p"
      }
    },
    {
      "cell_type": "code",
      "source": [
        "## Enter your solution here\n",
        "Training_data.shape"
      ],
      "metadata": {
        "id": "vpLeerN2mGRi",
        "outputId": "15d7fe30-1709-4627-833a-7dd3fe89c121",
        "colab": {
          "base_uri": "https://localhost:8080/"
        }
      },
      "execution_count": 11,
      "outputs": [
        {
          "output_type": "execute_result",
          "data": {
            "text/plain": [
              "(404, 13)"
            ]
          },
          "metadata": {},
          "execution_count": 11
        }
      ]
    },
    {
      "cell_type": "markdown",
      "source": [
        "## Question 2\n",
        "How many examples are there in the test dataset?\n",
        "\n"
      ],
      "metadata": {
        "id": "ChYFPOV5b5jZ"
      }
    },
    {
      "cell_type": "code",
      "source": [
        "## Enter your solution here\n",
        "Test_data.shape"
      ],
      "metadata": {
        "id": "0XK7s98bb8PY",
        "outputId": "c29071c1-fcb7-475b-d21f-ac20d4e08144",
        "colab": {
          "base_uri": "https://localhost:8080/"
        }
      },
      "execution_count": 12,
      "outputs": [
        {
          "output_type": "execute_result",
          "data": {
            "text/plain": [
              "(102, 13)"
            ]
          },
          "metadata": {},
          "execution_count": 12
        }
      ]
    },
    {
      "cell_type": "markdown",
      "source": [
        "## Question 3\n",
        "\n",
        "How many features are there in the dataset?\n",
        "\n"
      ],
      "metadata": {
        "id": "ZYLLXlAacL5c"
      }
    },
    {
      "cell_type": "code",
      "source": [
        "## Enter your solution here\n",
        "Test_data.shape[1]"
      ],
      "metadata": {
        "id": "rGvr9_jkO7NA",
        "outputId": "78c1c206-b985-4636-92bc-ba32c611be51",
        "colab": {
          "base_uri": "https://localhost:8080/"
        }
      },
      "execution_count": 13,
      "outputs": [
        {
          "output_type": "execute_result",
          "data": {
            "text/plain": [
              "13"
            ]
          },
          "metadata": {},
          "execution_count": 13
        }
      ]
    },
    {
      "cell_type": "markdown",
      "source": [
        "Linear regression model for the dataset ${\\mathbb{x}, y}$ is given as\n",
        "$$h_w(\\mathbb{x}) = w_1x^{1}+w_2x^{2}+...+w_dx^{d} =  \\mathbb{x}^Tw\n",
        "$$\n",
        "\n",
        "where $x^{i}$ is the $i^{th}$ feature, $\\mathbb{x}$ is the feature matrix of shape $(d, n)$ and $w = [w_1, w_2, ...w_d]^T$ is the weight vector.\n",
        "\n",
        "\n",
        "Notice that above model always pass through the origin but for a given dataset, best fit model need not pass through the origin. To tackle this issue, we add an intercept $w_0$ in the model and set the corresponding featrue $x^{0}$ to $1$. That is\n",
        "\n",
        "$$h_w(\\mathbb{x}) =w_0x^{0}+ w_1x^{1}+w_2x^{2}+...+w_dx^{n} =  \\mathbb{x}^Tw\n",
        "$$\n",
        "\n",
        "We call $x^{0}$ the dummy feature and set its value to 1 for each examples. Now $w$ is of shape $(d+1, 1)$ and $\\mathbb{x}$ is of shape $(d+1, n)$ where the first row of $\\mathbb{x}$ has entries as 1.\n"
      ],
      "metadata": {
        "id": "KmF4HhMmhx9R"
      }
    },
    {
      "cell_type": "markdown",
      "source": [
        "## Task\n",
        "\n",
        "Add the dummy feature in the feature matrix `Training_data` and test data matrix `test_data`. We will be using this new feature matrices (after adding te dummy feature) for learning the model.\n",
        "\n",
        "Note: As per your convenience, you can convert the shape of the training dataset to $(d, n)$."
      ],
      "metadata": {
        "id": "kN5fsfqfmX_w"
      }
    },
    {
      "cell_type": "code",
      "source": [
        "## Enter your solution here\n",
        "Training_data_with_dummy = np.c_[np.ones(Training_data.shape[0]), Training_data]\n",
        "Test_data_with_dummy = np.c_[np.ones(Test_data.shape[0]), Test_data]"
      ],
      "metadata": {
        "id": "wic4nhW47fOv"
      },
      "execution_count": 14,
      "outputs": []
    },
    {
      "cell_type": "markdown",
      "source": [
        "## Question 4\n",
        "If the solution of optimization problem is obtained by setting the first derivative of loss function (squared loss) to zero, find the value of $w_0+w_1+...w_d$.\n",
        "\n",
        "\n"
      ],
      "metadata": {
        "id": "sK4oWgqCnzgc"
      }
    },
    {
      "cell_type": "code",
      "source": [
        "## Enter your solution here\n",
        "X = Training_data_with_dummy\n",
        "y = labels\n",
        "\n",
        "# Normal equation: w = (X^T X)^{-1} X^T y\n",
        "w = np.linalg.inv(X.T.dot(X)).dot(X.T).dot(y)\n",
        "w"
      ],
      "metadata": {
        "id": "JORYNRkdOo55",
        "outputId": "f887a5fe-3766-4884-f389-b2e3f7947a87",
        "colab": {
          "base_uri": "https://localhost:8080/"
        }
      },
      "execution_count": 15,
      "outputs": [
        {
          "output_type": "execute_result",
          "data": {
            "text/plain": [
              "array([ 3.39712899e+01, -1.19191426e-01,  3.49034448e-02,  4.76183993e-02,\n",
              "        4.22247932e+00, -1.93428312e+01,  4.23451257e+00,  7.00963079e-03,\n",
              "       -1.37028486e+00,  3.52625213e-01, -1.32525419e-02, -1.01042893e+00,\n",
              "        1.06098912e-02, -5.00476986e-01])"
            ]
          },
          "metadata": {},
          "execution_count": 15
        }
      ]
    },
    {
      "cell_type": "code",
      "source": [
        "wtot=np.sum(w)\n",
        "wtot"
      ],
      "metadata": {
        "id": "WMQW9Hz2TR5g",
        "outputId": "f2e57e8c-e5f9-4187-92ad-fcf329e91de3",
        "colab": {
          "base_uri": "https://localhost:8080/"
        }
      },
      "execution_count": 16,
      "outputs": [
        {
          "output_type": "execute_result",
          "data": {
            "text/plain": [
              "20.524582464658266"
            ]
          },
          "metadata": {},
          "execution_count": 16
        }
      ]
    },
    {
      "cell_type": "markdown",
      "source": [
        "## Question 5\n",
        "Find the average of the predictions made by the above model.\n",
        "\n"
      ],
      "metadata": {
        "id": "uBUor5KWp3_Q"
      }
    },
    {
      "cell_type": "code",
      "source": [
        "## Enter your solution here\n",
        "x=Test_data_with_dummy\n",
        "predictions = X.dot(w)\n",
        "average_prediction = np.mean(predictions)\n",
        "average_prediction"
      ],
      "metadata": {
        "id": "O2vF1aE2Rxfs",
        "outputId": "b6ab84fd-ad7d-496d-d093-4dcf60acd0ba",
        "colab": {
          "base_uri": "https://localhost:8080/"
        }
      },
      "execution_count": 20,
      "outputs": [
        {
          "output_type": "execute_result",
          "data": {
            "text/plain": [
              "22.309158415841498"
            ]
          },
          "metadata": {},
          "execution_count": 20
        }
      ]
    },
    {
      "cell_type": "code",
      "source": [
        "np.mean(X)"
      ],
      "metadata": {
        "id": "Fw3-i_sdVFtM",
        "outputId": "2fc1e269-3da6-4a8e-b26d-9812a41ca85a",
        "colab": {
          "base_uri": "https://localhost:8080/"
        }
      },
      "execution_count": 21,
      "outputs": [
        {
          "output_type": "execute_result",
          "data": {
            "text/plain": [
              "65.05256202970297"
            ]
          },
          "metadata": {},
          "execution_count": 21
        }
      ]
    },
    {
      "cell_type": "markdown",
      "source": [
        "## Question 6\n",
        "\n",
        "Find the loss for the training data points using the above model. Consider the loss to be defined as\n",
        "\n",
        "$$ \\sqrt{\\dfrac{1}{n}\\sum\\limits_{i=1}^{n} (y_i- \\hat{y}_i)^2}\n",
        "$$\n",
        "\n",
        "Where $\\hat{y}_i$ is the prediction for $i^{th}$ data point.\n",
        "\n"
      ],
      "metadata": {
        "id": "FSDbBz7ucm_a"
      }
    },
    {
      "cell_type": "code",
      "source": [
        "## Enter your solution here\n",
        "# Compute the predictions on the training data\n",
        "predictions_train = X.dot(w)\n",
        "\n",
        "# Number of training examples\n",
        "n = len(labels)\n",
        "\n",
        "# Compute the squared differences between true values and predictions\n",
        "squared_errors = (labels - predictions_train) ** 2\n",
        "\n",
        "# Compute the loss as per the given formula\n",
        "loss = np.sqrt(np.sum(squared_errors) / n)\n",
        "\n",
        "# Output the loss\n",
        "loss"
      ],
      "metadata": {
        "id": "F4jRui2VSeDt",
        "outputId": "833fd14d-48d4-4f6d-f6b4-bb660af090db",
        "colab": {
          "base_uri": "https://localhost:8080/"
        }
      },
      "execution_count": 18,
      "outputs": [
        {
          "output_type": "execute_result",
          "data": {
            "text/plain": [
              "4.552387969840813"
            ]
          },
          "metadata": {},
          "execution_count": 18
        }
      ]
    },
    {
      "cell_type": "markdown",
      "source": [
        "## Question 7\n",
        "\n",
        "Find the loss for the test data points using the above model. Consider the loss to be defined as\n",
        "\n",
        "$$ \\sqrt{\\dfrac{1}{n}\\sum\\limits_{i=1}^{n} (y_i- \\hat{y}_i)^2}\n",
        "$$\n",
        "\n",
        "Where $\\hat{y}_i$ is the prediction for $i^{th}$ data point.\n",
        "\n"
      ],
      "metadata": {
        "id": "5eh8cI4PeVEb"
      }
    },
    {
      "cell_type": "code",
      "source": [
        "## Enter your solution here\n",
        "# Compute the predictions on the test data\n",
        "predictions_test = x.dot(w)\n",
        "\n",
        "# Number of test examples\n",
        "n_test = len(test_labels)\n",
        "\n",
        "# Compute the squared differences between true values and predictions\n",
        "squared_errors_test = (test_labels - predictions_test) ** 2\n",
        "\n",
        "# Compute the loss as per the given formula\n",
        "loss_test = np.sqrt(np.sum(squared_errors_test) / n_test)\n",
        "\n",
        "# Output the loss for the test data\n",
        "loss_test"
      ],
      "metadata": {
        "id": "vBMCgEIBU6v5",
        "outputId": "4bed5d54-d274-4919-d797-d6ae98493b13",
        "colab": {
          "base_uri": "https://localhost:8080/"
        }
      },
      "execution_count": 22,
      "outputs": [
        {
          "output_type": "execute_result",
          "data": {
            "text/plain": [
              "5.327662216181637"
            ]
          },
          "metadata": {},
          "execution_count": 22
        }
      ]
    },
    {
      "cell_type": "markdown",
      "source": [
        "## Question 8\n",
        "Find the weights using the gradient descent. Use a constant learning rate of $\\eta = 10^{-10}$. Initialize the weight vector as zero vector and update the weights for 100 iterations. Enter the sum of all the weights.\n",
        "\n"
      ],
      "metadata": {
        "id": "NkeClcplfJLK"
      }
    },
    {
      "cell_type": "code",
      "source": [
        "## Enter your solution here\n",
        "# Initialize parameters\n",
        "eta = 1e-10  # Learning rate\n",
        "iterations = 100\n",
        "n = len(labels)  # Number of training examples\n",
        "d = X.shape[1]  # Number of features including the dummy feature\n",
        "\n",
        "# Initialize weight vector to zero\n",
        "w_gd = np.zeros(d)\n",
        "\n",
        "# Gradient descent loop\n",
        "for i in range(iterations):\n",
        "    # Compute predictions\n",
        "    predictions = X.dot(w_gd)\n",
        "\n",
        "    # Compute the gradient\n",
        "    gradient = -(2/n) * X.T.dot(y - predictions)\n",
        "\n",
        "    # Update the weights\n",
        "    w_gd = w_gd - eta * gradient\n",
        "\n",
        "# Compute the sum of all weights\n",
        "sum_of_weights = np.sum(w_gd)\n",
        "\n",
        "# Output the sum of the weights\n",
        "sum_of_weights"
      ],
      "metadata": {
        "id": "QbpyGnfgWEqj",
        "outputId": "bc0986ef-dde5-4518-da28-90b5183c5f36",
        "colab": {
          "base_uri": "https://localhost:8080/"
        }
      },
      "execution_count": 23,
      "outputs": [
        {
          "output_type": "execute_result",
          "data": {
            "text/plain": [
              "0.00039286355135382525"
            ]
          },
          "metadata": {},
          "execution_count": 23
        }
      ]
    },
    {
      "cell_type": "markdown",
      "source": [
        "## Question 9\n",
        "\n",
        "Find the loss for the training data points if the model is learnt using the gradient descent as in question 8. Consider the loss to be defined as\n",
        "\n",
        "$$ \\sqrt{\\dfrac{1}{n}\\sum\\limits_{i=1}^{n} (y_i- \\hat{y}_i)^2}\n",
        "$$\n",
        "\n",
        "Where $\\hat{y}_i$ is the prediction for $i^{th}$ data point.\n",
        "\n"
      ],
      "metadata": {
        "id": "78ApH0oAg96X"
      }
    },
    {
      "cell_type": "code",
      "source": [
        "## Enter your solution here\n",
        "import numpy as np\n",
        "\n",
        "# Initialize variables\n",
        "X = Training_data_with_dummy  # Training data with the dummy feature\n",
        "y = labels  # True labels\n",
        "n, d = X.shape  # Number of examples (n) and features (d)\n",
        "w = np.zeros(d)  # Initialize weights to zero\n",
        "eta = 1e-10  # Learning rate\n",
        "iterations = 100  # Number of iterations\n",
        "\n",
        "# Gradient Descent\n",
        "for _ in range(iterations):\n",
        "    # Compute the predictions\n",
        "    predictions = X.dot(w)\n",
        "\n",
        "    # Compute the gradient: ∇L(w) = -(2/n) * X.T * (y - Xw)\n",
        "    gradient = -(2/n) * X.T.dot(y - predictions)\n",
        "\n",
        "    # Update weights\n",
        "    w = w - eta * gradient\n",
        "\n",
        "# Sum of all weights after 100 iterations\n",
        "sum_weights = np.sum(w)\n",
        "print(\"Sum of all weights:\", sum_weights)\n",
        "\n",
        "# Step 2: Compute the loss for the training data\n",
        "predictions_train = X.dot(w)  # Predictions with learned weights\n",
        "squared_errors_train = (y - predictions_train) ** 2\n",
        "loss_train = np.sqrt(np.sum(squared_errors_train) / n)\n",
        "\n",
        "# Output the loss\n",
        "loss_train"
      ],
      "metadata": {
        "id": "oI1yIf9N8la7",
        "outputId": "d700f410-8de3-45c6-f648-21ad89d5ff1b",
        "colab": {
          "base_uri": "https://localhost:8080/"
        }
      },
      "execution_count": 24,
      "outputs": [
        {
          "output_type": "stream",
          "name": "stdout",
          "text": [
            "Sum of all weights: 0.00039286355135382525\n"
          ]
        },
        {
          "output_type": "execute_result",
          "data": {
            "text/plain": [
              "24.045823388028428"
            ]
          },
          "metadata": {},
          "execution_count": 24
        }
      ]
    },
    {
      "cell_type": "markdown",
      "source": [
        "## Question 10\n",
        "\n",
        "Find the loss for the test data points if the model is learnt using the gradient descent as in question 8. Consider the loss to be defined as\n",
        "\n",
        "$$ \\sqrt{\\dfrac{1}{n}\\sum\\limits_{i=1}^{n} (y_i- \\hat{y}_i)^2}\n",
        "$$\n",
        "\n",
        "Where $\\hat{y}_i$ is the prediction for $i^{th}$ data point.\n",
        "\n"
      ],
      "metadata": {
        "id": "FA7UKT1Y3PXa"
      }
    },
    {
      "cell_type": "code",
      "source": [
        "## Enter your solution here\n",
        "## Enter your solution here\n",
        "import numpy as np\n",
        "\n",
        "# Initialize variables\n",
        "X = Test_data_with_dummy  # Training data with the dummy feature\n",
        "y =  test_labels # True labels\n",
        "n, d = X.shape  # Number of examples (n) and features (d)\n",
        "w = np.zeros(d)  # Initialize weights to zero\n",
        "eta = 1e-10  # Learning rate\n",
        "iterations = 100  # Number of iterations\n",
        "\n",
        "# Gradient Descent\n",
        "for _ in range(iterations):\n",
        "    # Compute the predictions\n",
        "    predictions = X.dot(w)\n",
        "\n",
        "    # Compute the gradient: ∇L(w) = -(2/n) * X.T * (y - Xw)\n",
        "    gradient = -(2/n) * X.T.dot(y - predictions)\n",
        "\n",
        "    # Update weights\n",
        "    w = w - eta * gradient\n",
        "\n",
        "# Sum of all weights after 100 iterations\n",
        "sum_weights = np.sum(w)\n",
        "print(\"Sum of all weights:\", sum_weights)\n",
        "\n",
        "# Step 2: Compute the loss for the training data\n",
        "predictions_train = X.dot(w)  # Predictions with learned weights\n",
        "squared_errors_train = (y - predictions_train) ** 2\n",
        "loss_train = np.sqrt(np.sum(squared_errors_train) / n)\n",
        "\n",
        "# Output the loss\n",
        "loss_train"
      ],
      "metadata": {
        "id": "tevVzIIj3SZj",
        "outputId": "f3215c2f-0b02-46d6-f928-f861a718602a",
        "colab": {
          "base_uri": "https://localhost:8080/"
        }
      },
      "execution_count": 25,
      "outputs": [
        {
          "output_type": "stream",
          "name": "stdout",
          "text": [
            "Sum of all weights: 0.0004165000891285572\n"
          ]
        },
        {
          "output_type": "execute_result",
          "data": {
            "text/plain": [
              "24.88093238532755"
            ]
          },
          "metadata": {},
          "execution_count": 25
        }
      ]
    },
    {
      "cell_type": "markdown",
      "source": [
        "## Question 11\n",
        "Find the weights using the stochastic gradient descent. Use a constant learning rate of $\\eta = 10^{-8}$. Initialize the weight vector as zero vector and update the weights for 1000 iterations. . Take the batch size of $⌈\\text{number of samples}/5⌉ $. For sampling the batch examples in $ith$ iteration, set seed at $i$. The final weight is the last updated weight. Do not take the avearge of weights updated in all the iterations. Enter the sum of all the weights.\n",
        "\n",
        "\n"
      ],
      "metadata": {
        "id": "-AoLsBKc31Ul"
      }
    },
    {
      "cell_type": "code",
      "source": [
        "## Enter your solution here\n",
        "import numpy as np\n",
        "\n",
        "# Initialize variables\n",
        "X = Training_data_with_dummy  # Training data with the dummy feature\n",
        "y = labels  # True labels\n",
        "n, d = X.shape  # Number of examples (n) and features (d)\n",
        "w = np.zeros(d)  # Initialize weights to zero\n",
        "eta = 1e-8  # Learning rate\n",
        "iterations = 1000  # Number of iterations\n",
        "batch_size = int(np.ceil(n / 5))  # Batch size\n",
        "\n",
        "# Stochastic Gradient Descent\n",
        "for i in range(iterations):\n",
        "    np.random.seed(i)  # Set the seed at each iteration\n",
        "    # Randomly sample a batch\n",
        "    indices = np.random.choice(n, batch_size, replace=False)\n",
        "    X_batch = X[indices]\n",
        "    y_batch = y[indices]\n",
        "\n",
        "    # Compute the predictions for the batch\n",
        "    predictions_batch = X_batch.dot(w)\n",
        "\n",
        "    # Compute the gradient for the batch\n",
        "    gradient = -(2/batch_size) * X_batch.T.dot(y_batch - predictions_batch)\n",
        "\n",
        "    # Update weights\n",
        "    w = w - eta * gradient\n",
        "\n",
        "# Sum of all weights after 1000 iterations\n",
        "sum_weights = np.sum(w)\n",
        "print(\"Sum of all weights:\", sum_weights)"
      ],
      "metadata": {
        "id": "R4odop9yF9VY",
        "outputId": "be46b426-571d-405f-ec78-37d5624ad84a",
        "colab": {
          "base_uri": "https://localhost:8080/"
        }
      },
      "execution_count": 26,
      "outputs": [
        {
          "output_type": "stream",
          "name": "stdout",
          "text": [
            "Sum of all weights: 0.06524986178321131\n"
          ]
        }
      ]
    },
    {
      "cell_type": "markdown",
      "source": [
        "## Question 12\n",
        "\n",
        "Find the loss for the training data points if the model is learnt using the stochastic gradient descent as in question 11. Consider the loss to be defined as\n",
        "\n",
        "$$ \\sqrt{\\dfrac{1}{n}\\sum\\limits_{i=1}^{n} (y_i- \\hat{y}_i)^2}\n",
        "$$\n",
        "\n",
        "Where $\\hat{y}_i$ is the prediction for $i^{th}$ data point.\n",
        "\n"
      ],
      "metadata": {
        "id": "yPzJLciH4NrV"
      }
    },
    {
      "cell_type": "code",
      "source": [
        "## Enter your solution here\n",
        "# Compute the predictions for the training data using the final weights\n",
        "X=Training_data_with_dummy\n",
        "predictions_train_sgd = X.dot(w)  # X is Training_data_with_dummy, w is the final weight from SGD\n",
        "\n",
        "# Number of training examples\n",
        "n_train = len(labels)\n",
        "\n",
        "# Compute the squared differences between true labels and predictions\n",
        "squared_errors_train_sgd = (labels - predictions_train_sgd) ** 2\n",
        "\n",
        "# Compute the loss as per the given formula\n",
        "loss_train_sgd = np.sqrt(np.sum(squared_errors_train_sgd) / n_train)\n",
        "\n",
        "# Output the loss\n",
        "loss_train_sgd"
      ],
      "metadata": {
        "id": "w9usLAPeLNkt",
        "outputId": "12279b17-c230-48a8-c6ed-f8d14a70a2b8",
        "colab": {
          "base_uri": "https://localhost:8080/"
        }
      },
      "execution_count": 27,
      "outputs": [
        {
          "output_type": "execute_result",
          "data": {
            "text/plain": [
              "10.215826867450467"
            ]
          },
          "metadata": {},
          "execution_count": 27
        }
      ]
    },
    {
      "cell_type": "markdown",
      "source": [
        "## Question 13\n",
        "\n",
        "Find the loss for the test data points if the model is learnt using the stochastic gradient descent as in question 11. Consider the loss to be defined as\n",
        "\n",
        "$$ \\sqrt{\\dfrac{1}{n}\\sum\\limits_{i=1}^{n} (y_i- \\hat{y}_i)^2}\n",
        "$$\n",
        "\n",
        "Where $\\hat{y}_i$ is the prediction for $i^{th}$ data point.\n"
      ],
      "metadata": {
        "id": "rfeamQM94x_N"
      }
    },
    {
      "cell_type": "code",
      "source": [
        "## Enter your solution here\n",
        "## Enter your solution here\n",
        "# Compute the predictions for the training data using the final weights\n",
        "X=Training_data_with_dummy\n",
        "predictions_train_sgd = X.dot(w)  # X is Training_data_with_dummy, w is the final weight from SGD\n",
        "\n",
        "# Number of training examples\n",
        "n_train = len(labels)\n",
        "\n",
        "# Compute the squared differences between true labels and predictions\n",
        "squared_errors_train_sgd = (labels - predictions_train_sgd) ** 2\n",
        "\n",
        "# Compute the loss as per the given formula\n",
        "loss_train_sgd = np.sqrt(np.sum(squared_errors_train_sgd) / n_train)\n",
        "\n",
        "# Output the loss\n",
        "loss_train_sgd"
      ],
      "metadata": {
        "id": "oF1xpNH845iH",
        "outputId": "d32166c0-a25c-479f-b3a3-862915b98149",
        "colab": {
          "base_uri": "https://localhost:8080/"
        }
      },
      "execution_count": 28,
      "outputs": [
        {
          "output_type": "execute_result",
          "data": {
            "text/plain": [
              "10.215826867450467"
            ]
          },
          "metadata": {},
          "execution_count": 28
        }
      ]
    },
    {
      "cell_type": "markdown",
      "source": [
        "# Section 2:\n",
        "\n",
        "**kernel Regression**"
      ],
      "metadata": {
        "id": "muMOKLvY5D9O"
      }
    },
    {
      "cell_type": "markdown",
      "source": [
        "We will generate the synthetic dataset for the kernel regression problem. Run the following cell to get the following variables:\n",
        "\n",
        "`X` = Training data matrix of shape $(n, d)$. In the given dataset $d = 1$.\n",
        "\n",
        "`y` = label vector corresponding to the training dataset"
      ],
      "metadata": {
        "id": "pDAKRJua6rCU"
      }
    },
    {
      "cell_type": "code",
      "source": [
        "rng = np.random.default_rng(seed = 101)\n",
        "X = np.arange(-2, 2, 0.01).reshape(-1, 1)\n",
        "y = X**3 + rng.normal(0, 1, X.shape[0]).reshape(-1, 1)\n"
      ],
      "metadata": {
        "id": "_WgICXZSnra0"
      },
      "execution_count": 29,
      "outputs": []
    },
    {
      "cell_type": "markdown",
      "source": [
        "## Question 14\n",
        "\n",
        "Plot the scatter plot between feature and the labels. Enter your answer as 0.\n",
        "\n"
      ],
      "metadata": {
        "id": "y_-9lyPm8aaj"
      }
    },
    {
      "cell_type": "code",
      "source": [
        "## Enter your solution here\n",
        "import matplotlib.pyplot as plt\n",
        "\n",
        "# Scatter plot between feature X and labels y\n",
        "plt.scatter(X, y, color='blue')\n",
        "\n",
        "# Labeling the plot\n",
        "plt.xlabel('Feature (X)')\n",
        "plt.ylabel('Labels (y)')\n",
        "plt.title('Scatter plot between Feature and Labels')\n",
        "\n",
        "# Display the plot\n",
        "plt.show()\n"
      ],
      "metadata": {
        "id": "B12Nc2Sv80_s",
        "outputId": "f8b0520e-d9f3-4a92-cca2-e8e25c6a9ae3",
        "colab": {
          "base_uri": "https://localhost:8080/",
          "height": 472
        }
      },
      "execution_count": 30,
      "outputs": [
        {
          "output_type": "display_data",
          "data": {
            "text/plain": [
              "<Figure size 640x480 with 1 Axes>"
            ],
            "image/png": "[encoded data removed]"
          },
          "metadata": {}
        }
      ]
    },
    {
      "cell_type": "markdown",
      "source": [
        "## Question 15\n",
        "How many examples are there in the training dataset?\n",
        "\n"
      ],
      "metadata": {
        "id": "E3e-gQHg8z8x"
      }
    },
    {
      "cell_type": "code",
      "source": [
        "## Enter your solution here\n",
        "n_examples = Training_data.shape[0]\n",
        "print(\"Number of examples in the training dataset:\", n_examples)\n"
      ],
      "metadata": {
        "id": "xGeqMCV57ZJB",
        "outputId": "edd10da0-0c10-45bd-c165-326574a1b394",
        "colab": {
          "base_uri": "https://localhost:8080/"
        }
      },
      "execution_count": 31,
      "outputs": [
        {
          "output_type": "stream",
          "name": "stdout",
          "text": [
            "Number of examples in the training dataset: 404\n"
          ]
        }
      ]
    },
    {
      "cell_type": "markdown",
      "source": [
        "## Task:\n",
        "\n",
        "Add the dummy feature in the feature matrix `X`and reshape it to the shape $(d, n)$."
      ],
      "metadata": {
        "id": "uPifeX-K9zuU"
      }
    },
    {
      "cell_type": "code",
      "source": [
        "## Enter your solution here\n",
        "import numpy as np\n",
        "\n",
        "# Add the dummy feature (column of ones)\n",
        "X_with_dummy = np.c_[np.ones(X.shape[0]), X]  # Add a column of ones as the first column\n",
        "\n",
        "# Reshape the matrix to (d, n), where d is the number of features and n is the number of samples\n",
        "X_reshaped = X_with_dummy.T  # Transpose to get shape (d, n)\n",
        "\n",
        "# Check the shape\n",
        "print(\"Shape of the reshaped feature matrix:\", X_reshaped.shape)"
      ],
      "metadata": {
        "id": "yduBBJQgujfE",
        "outputId": "8bae1db1-83ea-4819-a626-c16540fae3c3",
        "colab": {
          "base_uri": "https://localhost:8080/"
        }
      },
      "execution_count": 32,
      "outputs": [
        {
          "output_type": "stream",
          "name": "stdout",
          "text": [
            "Shape of the reshaped feature matrix: (2, 400)\n"
          ]
        }
      ]
    },
    {
      "cell_type": "markdown",
      "source": [
        "## Question 16\n",
        "\n",
        "Our task is to apply the kernel regression with polynomial kernel of degree 3. We know that weight vector can be written as\n",
        "\n",
        "$$w = \\phi(\\mathbb{x})\\alpha$$\n",
        "\n",
        "let us call the vector $\\alpha$ as coefficient vector. Find the sum of elements in the coefficient vector.\n",
        "\n"
      ],
      "metadata": {
        "id": "HQtBOQua_HQB"
      }
    },
    {
      "cell_type": "code",
      "source": [
        "## Enter your solution here\n",
        "import numpy as np\n",
        "X=X_with_dummy\n",
        "# Assuming X is the feature matrix and y is the label vector\n",
        "n = X.shape[0]\n",
        "\n",
        "# Step 1: Compute the Kernel Matrix (Polynomial kernel of degree 3)\n",
        "K = (X.dot(X.T) + 1) ** 3  # Kernel matrix of size (n, n)\n",
        "\n",
        "# Step 2: Solve for alpha (K * alpha = y)\n",
        "alpha = np.linalg.solve(K, y)\n",
        "\n",
        "# Step 3: Compute the sum of elements in the coefficient vector alpha\n",
        "sum_alpha = np.sum(alpha)\n",
        "print(\"Sum of elements in the coefficient vector:\", sum_alpha)\n"
      ],
      "metadata": {
        "id": "CVMDkgkNqCBG",
        "outputId": "babd3258-5a6c-4403-b69e-af8b9efddbf7",
        "colab": {
          "base_uri": "https://localhost:8080/"
        }
      },
      "execution_count": 33,
      "outputs": [
        {
          "output_type": "stream",
          "name": "stdout",
          "text": [
            "Sum of elements in the coefficient vector: -3.5\n"
          ]
        }
      ]
    },
    {
      "cell_type": "markdown",
      "source": [
        "## Question 17\n",
        "\n",
        "Find the sum of the predictions made by the kernel regression model of degree 3.\n",
        "\n"
      ],
      "metadata": {
        "id": "Xq0YtsGjA7IK"
      }
    },
    {
      "cell_type": "code",
      "source": [
        "## Enter your solution here\n",
        "# Step 1: Compute the Kernel Matrix (Polynomial kernel of degree 3)\n",
        "X=X_with_dummy\n",
        "K = (X.dot(X.T) + 1) ** 3  # Kernel matrix of size (n, n)\n",
        "\n",
        "# Step 2: Solve for alpha (K * alpha = y)\n",
        "alpha = np.linalg.solve(K, y)\n",
        "\n",
        "# Step 3: Compute the predictions for the training data\n",
        "predictions = K.dot(alpha)\n",
        "\n",
        "# Step 4: Compute the sum of the predictions\n",
        "sum_predictions = np.sum(predictions)\n",
        "\n",
        "print(\"Sum of the predictions made by the kernel regression model:\", sum_predictions)\n"
      ],
      "metadata": {
        "id": "YAqln4GZ05dg",
        "outputId": "4d2df7fb-f056-42f5-eb7a-352da6cf8a17",
        "colab": {
          "base_uri": "https://localhost:8080/"
        }
      },
      "execution_count": 34,
      "outputs": [
        {
          "output_type": "stream",
          "name": "stdout",
          "text": [
            "Sum of the predictions made by the kernel regression model: 9056.0\n"
          ]
        }
      ]
    },
    {
      "cell_type": "markdown",
      "source": [
        "## Question 18\n",
        "\n",
        "Find the loss for the training data points. Consider the loss to be defined as\n",
        "\n",
        "$$ \\sqrt{\\dfrac{1}{n}\\sum\\limits_{i=1}^{n} (y_i- \\hat{y}_i)^2}\n",
        "$$\n",
        "\n",
        "Where $\\hat{y}_i$ is the prediction for $i^{th}$ data point.\n",
        "\n"
      ],
      "metadata": {
        "id": "pXRpijIeCcSr"
      }
    },
    {
      "cell_type": "code",
      "source": [
        "## Enter your solution here\n",
        "import numpy as np\n",
        "# Step 1: Compute the Kernel Matrix (Polynomial kernel of degree 3)\n",
        "K = (X.dot(X.T) + 1) ** 3  # Kernel matrix of size (n, n)\n",
        "\n",
        "# Step 2: Solve for alpha (K * alpha = y)\n",
        "alpha = np.linalg.solve(K, y)\n",
        "\n",
        "# Step 3: Compute the predictions for the training data\n",
        "predictions = K.dot(alpha)\n",
        "\n",
        "# Step 4: Calculate the number of training examples\n",
        "n = X.shape[0]\n",
        "\n",
        "# Step 5: Compute the squared errors\n",
        "squared_errors = (y - predictions) ** 2\n",
        "\n",
        "# Step 6: Compute the loss using the given formula\n",
        "loss = np.sqrt(np.sum(squared_errors) / n)\n",
        "\n",
        "print(\"Loss for the training data points:\", loss)\n"
      ],
      "metadata": {
        "id": "8_i2Th-g1ToW",
        "outputId": "f890d6eb-4d5b-4b9d-ddb4-29f4a11a3511",
        "colab": {
          "base_uri": "https://localhost:8080/"
        }
      },
      "execution_count": 35,
      "outputs": [
        {
          "output_type": "stream",
          "name": "stdout",
          "text": [
            "Loss for the training data points: 199.94315859410784\n"
          ]
        }
      ]
    },
    {
      "cell_type": "markdown",
      "source": [
        "### Test dataset\n",
        "\n",
        "run the following cell to get the test data matrix `X_test` and corresponding label vector `y_test`."
      ],
      "metadata": {
        "id": "nGpw3zpI65rm"
      }
    },
    {
      "cell_type": "code",
      "source": [
        "rng = np.random.default_rng(seed = 102)\n",
        "Xnew = np.arange(-2, 2, 0.03)\n",
        "ynew = Xnew**3 + rng.normal(0, 1.5, Xnew.shape[0])\n",
        "X_test = np.column_stack((np.ones(Xnew.shape[0]), Xnew.reshape(-1, 1))).T\n",
        "y_test = ynew.reshape(-1, 1)\n",
        "plt.scatter(Xnew,ynew)"
      ],
      "metadata": {
        "colab": {
          "base_uri": "https://localhost:8080/",
          "height": 447
        },
        "id": "fLNDYH_B67kN",
        "outputId": "5cf1ad54-c26a-4b19-ca0d-da25216ceed1"
      },
      "execution_count": 36,
      "outputs": [
        {
          "output_type": "execute_result",
          "data": {
            "text/plain": [
              "<matplotlib.collections.PathCollection at 0x7b7277fdf990>"
            ]
          },
          "metadata": {},
          "execution_count": 36
        },
        {
          "output_type": "display_data",
          "data": {
            "text/plain": [
              "<Figure size 640x480 with 1 Axes>"
            ],
            "image/png": "[encoded data removed]"
          },
          "metadata": {}
        }
      ]
    },
    {
      "cell_type": "markdown",
      "source": [
        "## Question 19\n",
        "\n",
        "Find the loss for the test data points. Consider the loss to be defined as\n",
        "\n",
        "$$ \\sqrt{\\dfrac{1}{n}\\sum\\limits_{i=1}^{n} (y_i- \\hat{y}_i)^2}\n",
        "$$\n",
        "\n",
        "Where $\\hat{y}_i$ is the prediction for $i^{th}$ data point.\n",
        "\n"
      ],
      "metadata": {
        "id": "5vlunIBzDI1_"
      }
    },
    {
      "cell_type": "code",
      "source": [
        "import numpy as np\n",
        "import matplotlib.pyplot as plt\n",
        "\n",
        "# Data creation\n",
        "rng = np.random.default_rng(seed=102)\n",
        "Xnew = np.arange(-2, 2, 0.03)\n",
        "ynew = Xnew**3 + rng.normal(0, 1.5, Xnew.shape[0])\n",
        "X_test = Xnew.reshape(-1, 1)\n",
        "y_test = ynew.reshape(-1, 1)\n",
        "\n",
        "# Plot the data\n",
        "plt.scatter(Xnew, ynew)\n",
        "plt.show()\n",
        "\n",
        "# Kernel Regression\n",
        "X = X_test\n",
        "y = y_test\n",
        "\n",
        "# Step 1: Compute the Kernel Matrix (Polynomial kernel of degree 3)\n",
        "K = (X.dot(X.T) + 1) ** 3  # Kernel matrix of size (n, n)\n",
        "\n",
        "# Step 2: Solve for alpha (K * alpha = y)\n",
        "alpha = np.linalg.solve(K, y)\n",
        "\n",
        "# Step 3: Compute the predictions for the test data\n",
        "predictions = K.dot(alpha)\n",
        "\n",
        "# Step 4: Calculate the number of test examples\n",
        "n = X.shape[0]\n",
        "\n",
        "# Step 5: Compute the squared errors\n",
        "squared_errors = (y - predictions) ** 2\n",
        "\n",
        "# Step 6: Compute the loss using the given formula\n",
        "loss = np.sqrt(np.sum(squared_errors) / n)\n",
        "\n",
        "print(\"Loss for the test data points:\", loss)\n"
      ],
      "metadata": {
        "id": "_RxSPslY7joK",
        "outputId": "ccf2a9ff-b5d0-4cb2-87e4-fce96fc55246",
        "colab": {
          "base_uri": "https://localhost:8080/",
          "height": 447
        }
      },
      "execution_count": 38,
      "outputs": [
        {
          "output_type": "display_data",
          "data": {
            "text/plain": [
              "<Figure size 640x480 with 1 Axes>"
            ],
            "image/png": "[encoded data removed]"
          },
          "metadata": {}
        },
        {
          "output_type": "stream",
          "name": "stdout",
          "text": [
            "Loss for the test data points: 12.926869050896793\n"
          ]
        }
      ]
    }
  ]
}