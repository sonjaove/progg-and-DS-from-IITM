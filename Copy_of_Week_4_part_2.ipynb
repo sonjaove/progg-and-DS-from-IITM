{
  "nbformat": 4,
  "nbformat_minor": 0,
  "metadata": {
    "colab": {
      "provenance": [],
      "include_colab_link": true
    },
    "kernelspec": {
      "name": "python3",
      "display_name": "Python 3"
    },
    "language_info": {
      "name": "python"
    }
  },
  "cells": [
    {
      "cell_type": "markdown",
      "metadata": {
        "id": "view-in-github",
        "colab_type": "text"
      },
      "source": [
        "<a href=\"https://colab.research.google.com/github/sonjaove/progg-and-DS-from-IITM/blob/ML/Copy_of_Week_4_part_2.ipynb\" target=\"_parent\"><img src=\"https://colab.research.google.com/assets/colab-badge.svg\" alt=\"Open In Colab\"/></a>"
      ]
    },
    {
      "cell_type": "markdown",
      "source": [
        "# Week-4: Part-2\n"
      ],
      "metadata": {
        "id": "53TcQvUOjGxr"
      }
    },
    {
      "cell_type": "code",
      "source": [
        "import numpy as np\n",
        "import matplotlib.pyplot as plt\n",
        "# Set size of figure\n",
        "plt.rcParams['figure.figsize'] = [8, 8]\n",
        "# Set size of font\n",
        "plt.rcParams['font.size'] = 10"
      ],
      "metadata": {
        "id": "FasmVZvHPgMW"
      },
      "execution_count": 1,
      "outputs": []
    },
    {
      "cell_type": "markdown",
      "source": [
        "## GMM\n",
        "\n",
        "Now that we know how to sample from simple distributions like the Bernoulli and Gaussian, we shall move to sampling from a GMM. There are two steps here:\n",
        "\n",
        "- Pick a mixture $k$ from $K$ mixtures based on the categorical distribution governing it\n",
        "- Sample a point from the $k^{th}$ Gaussian"
      ],
      "metadata": {
        "id": "7A9Gri4ZP1oK"
      }
    },
    {
      "cell_type": "markdown",
      "source": [
        "## Problem-1\n",
        "\n",
        "Consider a GMM with $K = 3$. The mixture probabilities are given below. It is easier to work with zero-indexing, hence we will index our mixtures starting from $0$:\n",
        "\n",
        "$$\n",
        "\\pi_0 = 0.3\\\\\n",
        "\\pi_1 = 0.5\\\\\n",
        "\\pi_2 = 0.2\n",
        "$$\n",
        "\n",
        "Perform step-1 of the sampling process by choosing one of the three mixtures based on the above distribution. Call this value $k$. Use the cell given below for all your computation. Do not change the seed value. Enter $k$ as your answer."
      ],
      "metadata": {
        "id": "1GlVAG9-8qFY"
      }
    },
    {
      "cell_type": "code",
      "source": [
        "### RNG ###\n",
        "rng = np.random.default_rng(seed = 1001)\n",
        "### Solution ###\n",
        "pi = [0.3, 0.5, 0.2]\n",
        "\n",
        "# Step 1: Sampling mixture component\n",
        "k = rng.choice(3, p=pi)\n",
        "k"
      ],
      "metadata": {
        "id": "aQqjseA3RYkB",
        "outputId": "7992ab5b-49d6-439f-e808-7f668212993d",
        "colab": {
          "base_uri": "https://localhost:8080/"
        }
      },
      "execution_count": 2,
      "outputs": [
        {
          "output_type": "execute_result",
          "data": {
            "text/plain": [
              "1"
            ]
          },
          "metadata": {},
          "execution_count": 2
        }
      ]
    },
    {
      "cell_type": "markdown",
      "source": [
        "## Problem-2\n",
        "\n",
        "Now we move to step-2 of the sampling process. Sample a point from mixture $k$ (obtained from the previous question). The means and variances of the mixtures are as follows:\n",
        "\n",
        "$$\n",
        "\\mu_1 = -4, \\sigma_1^2 = 2\\\\\n",
        "\\mu_2 = 0, \\sigma_2^2 = 1\\\\\n",
        "\\mu_3 = 5, \\sigma_3^2 = 3\n",
        "$$\n",
        "\n",
        "\n",
        "Use the cell given below for all your computation. Enter the sampled point correct to three decimal places."
      ],
      "metadata": {
        "id": "4hd29e0n9mar"
      }
    },
    {
      "cell_type": "code",
      "source": [
        "# Resetting the random generator with the same seed to ensure consistency\n",
        "rng = np.random.default_rng(seed=1001)\n",
        "\n",
        "# Chosen mixture is k = 1, so using mu_1 = 0, sigma_1^2 = 1\n",
        "chosen_mean = 0\n",
        "chosen_std_dev = np.sqrt(1)\n",
        "\n",
        "# Sampling a point again after resetting the seed\n",
        "sampled_point_correct = rng.normal(chosen_mean, chosen_std_dev)\n",
        "round(sampled_point_correct, 3)"
      ],
      "metadata": {
        "id": "D0TUgnKG91t2",
        "outputId": "5976dc4d-95ab-47da-d62a-1e61a506d704",
        "colab": {
          "base_uri": "https://localhost:8080/"
        }
      },
      "execution_count": 5,
      "outputs": [
        {
          "output_type": "execute_result",
          "data": {
            "text/plain": [
              "0.932"
            ]
          },
          "metadata": {},
          "execution_count": 5
        }
      ]
    },
    {
      "cell_type": "markdown",
      "source": [
        "## Problem-3\n",
        "\n",
        "Now that we have sampled one point, we are ready to do more. Sample $100,000$ points from the GMM. Generate each point step by step. Store the samples in a NumPy array `X` of shape $(100,000, )$. `X[i]` should hold the value of the $i^{th}$ point generated from the GMM.  Use the cell below for all your computation. Enter the mean of `X` as your answer correct to three decimal places."
      ],
      "metadata": {
        "id": "7FnbGy4p-jeK"
      }
    },
    {
      "cell_type": "code",
      "source": [
        "### RNG ###\n",
        "rng = np.random.default_rng(seed = 1001)\n",
        "### Solution ###\n",
        "# Mixture probabilities and parameters\n",
        "pi = [0.3, 0.5, 0.2]\n",
        "means = [-4, 0, 5]\n",
        "variances = [2, 1, 3]\n",
        "\n",
        "# Number of samples\n",
        "n_samples = 100000\n",
        "\n",
        "# Step-by-step sampling process for 100,000 points\n",
        "X = np.zeros(n_samples)\n",
        "for i in range(n_samples):\n",
        "    # Step 1: Sample a mixture component\n",
        "    k = rng.choice(3, p=pi)\n",
        "\n",
        "    # Step 2: Sample from the chosen Gaussian\n",
        "    X[i] = rng.normal(means[k], np.sqrt(variances[k]))\n",
        "\n",
        "# Calculate the mean of X\n",
        "mean_X = np.mean(X)\n",
        "round(mean_X, 3)\n"
      ],
      "metadata": {
        "id": "XA8gv2jq-rTC",
        "outputId": "1acaeaf0-e34d-44fe-bee8-2319ae1403ed",
        "colab": {
          "base_uri": "https://localhost:8080/"
        }
      },
      "execution_count": 6,
      "outputs": [
        {
          "output_type": "execute_result",
          "data": {
            "text/plain": [
              "-0.193"
            ]
          },
          "metadata": {},
          "execution_count": 6
        }
      ]
    },
    {
      "cell_type": "markdown",
      "source": [
        "## Problem-4\n",
        "\n",
        "Plot a histogram of the dataset. Play around with the `bins` parameter of the `plt.hist` method. We will be using this dataset `X` all through the next section of the colab."
      ],
      "metadata": {
        "id": "2heXmKhI_uXb"
      }
    },
    {
      "cell_type": "code",
      "source": [
        "### Solution ###\n",
        "import matplotlib.pyplot as plt\n",
        "\n",
        "# Plotting the histogram of the dataset X\n",
        "plt.figure(figsize=(8, 6))\n",
        "plt.hist(X, bins=50, edgecolor='black')\n",
        "plt.title('Histogram of GMM Samples')\n",
        "plt.xlabel('Sample Value')\n",
        "plt.ylabel('Frequency')\n",
        "plt.grid(True)\n",
        "plt.show()\n"
      ],
      "metadata": {
        "id": "lpor62HP_xPF",
        "outputId": "0193e2f0-d2a7-4482-9a4d-8daf5ec8801b",
        "colab": {
          "base_uri": "https://localhost:8080/",
          "height": 564
        }
      },
      "execution_count": 7,
      "outputs": [
        {
          "output_type": "display_data",
          "data": {
            "text/plain": [
              "<Figure size 800x600 with 1 Axes>"
            ],
            "image/png": "[encoded data removed]"
          },
          "metadata": {}
        }
      ]
    },
    {
      "cell_type": "markdown",
      "source": [
        "## EM algorithm\n",
        "\n",
        "It is time to start coding up the EM algorithm from scratch. We will break this down into five stages:\n",
        "\n",
        "- Initialization\n",
        "- E-step\n",
        "- M-step\n",
        "- Stopping criterion\n",
        "- Algorithm\n",
        "\n",
        "For each of the first four stages, we will write functions that are related to that stage. All these functions will be eventually used in the code for the EM algorithm. This is a modular approach to writing the code. We have identified four blocks or stages. We can independently work on these four blocks and finally combine them. If something goes wrong, we can quickly localize the problem to one of these four blocks.\n"
      ],
      "metadata": {
        "id": "t1VFwTY0ArhB"
      }
    },
    {
      "cell_type": "markdown",
      "source": [
        "## Problem-5\n",
        "\n",
        "Write a function `init` that initializes the parameters of the GMM and returns `theta_0`, a NumPy array of shape $(3K, )$. The first $K$ elements of `theta_0` ($\\boldsymbol{\\theta}^{(0)}$) represents the means of the three mixtures, the next $K$ represent the variances and the last $K$ represent the mixture probabilities.\n",
        "\n",
        "The exact values to be used are as follows:\n",
        "\n",
        "- $\\mu_0 = 1, \\mu_1 = 2, \\mu_2 = 3$\n",
        "- $\\sigma_0^2 = \\sigma_1^2 = \\sigma_2^2 = 1$\n",
        "- $\\pi_0 = \\pi_1 = \\pi_2 = 1/3$\n",
        "\n",
        "Enter $||\\boldsymbol{\\theta}^{(0)}||$ as your answer correct to two decimal places. Keep this variable `theta_0` as it will be used in subsequent problems."
      ],
      "metadata": {
        "id": "YuhQSnp0BChl"
      }
    },
    {
      "cell_type": "code",
      "source": [
        "### Solution ###\n",
        "# Function to initialize the parameters of the GMM\n",
        "def init():\n",
        "    # Means\n",
        "    mus = np.array([1, 2, 3])\n",
        "\n",
        "    # Variances\n",
        "    sigmas_squared = np.array([1, 1, 1])\n",
        "\n",
        "    # Mixture probabilities\n",
        "    pis = np.array([1/3, 1/3, 1/3])\n",
        "\n",
        "    # Combine all into a single array\n",
        "    theta_0 = np.concatenate([mus, sigmas_squared, pis])\n",
        "    return theta_0\n",
        "\n",
        "# Initialize and calculate the norm of theta_0\n",
        "theta_0 = init()\n",
        "theta_0_norm = np.linalg.norm(theta_0)\n",
        "round(theta_0_norm, 2)\n"
      ],
      "metadata": {
        "id": "HKe2dspvIUgE",
        "outputId": "c1df1a29-e6a2-4979-cad1-fda3a662c88c",
        "colab": {
          "base_uri": "https://localhost:8080/"
        }
      },
      "execution_count": 8,
      "outputs": [
        {
          "output_type": "execute_result",
          "data": {
            "text/plain": [
              "4.16"
            ]
          },
          "metadata": {},
          "execution_count": 8
        }
      ]
    },
    {
      "cell_type": "markdown",
      "source": [
        "## Problem-6\n",
        "\n",
        "Write a function `estep` that accepts `theta` and `X` as arguments. It should perform the E-step and return an array `lamb` of shape `(n, K)`. The element `lamb[i][k]` is equal to $\\lambda_k^{i}$. For the purposes of evaluation, run the function on `theta_0` and `X`. Call the returned value `lamb_1`.  Compute the sum of the zeroth column of the matrix `lamb_1` and enter that as your answer correct to two decimal places. Keep this variable `lamb_1` as it will be used in subsequent problems.\n",
        "\n",
        "\n",
        "**Aside**: We prefer the variable name `lamb` over `lambda` for a reason. Can you guess why?"
      ],
      "metadata": {
        "id": "EgsmXOKYJ76X"
      }
    },
    {
      "cell_type": "code",
      "source": [
        "### Solution ###\n",
        "# Function to compute the E-step\n",
        "def estep(theta, X):\n",
        "    n = X.shape[0]\n",
        "    K = 3\n",
        "\n",
        "    # Extract parameters from theta\n",
        "    mus = theta[:K]\n",
        "    sigmas_squared = theta[K:2*K]\n",
        "    pis = theta[2*K:]\n",
        "\n",
        "    # Initialize lamb matrix\n",
        "    lamb = np.zeros((n, K))\n",
        "\n",
        "    # Compute lambda_k^i for each i and k\n",
        "    for k in range(K):\n",
        "        # Gaussian probability density function for each component\n",
        "        coeff = 1 / np.sqrt(2 * np.pi * sigmas_squared[k])\n",
        "        exp_term = np.exp(-0.5 * (X - mus[k])**2 / sigmas_squared[k])\n",
        "\n",
        "        # Calculate lambda_k^i\n",
        "        lamb[:, k] = pis[k] * coeff * exp_term\n",
        "\n",
        "    # Normalize lamb values across k for each i (E-step)\n",
        "    lamb_sum = np.sum(lamb, axis=1, keepdims=True)\n",
        "    lamb /= lamb_sum\n",
        "\n",
        "    return lamb\n",
        "\n",
        "# Run the estep function on theta_0 and X\n",
        "lamb_1 = estep(theta_0, X)\n",
        "\n",
        "# Compute the sum of the zeroth column of lamb_1\n",
        "sum_zeroth_column = np.sum(lamb_1[:, 0])\n",
        "round(sum_zeroth_column, 2)\n"
      ],
      "metadata": {
        "id": "kKH7zNZ6IJsb",
        "outputId": "9de3603c-48f1-4491-b10a-2d56cb42c72d",
        "colab": {
          "base_uri": "https://localhost:8080/"
        }
      },
      "execution_count": 9,
      "outputs": [
        {
          "output_type": "execute_result",
          "data": {
            "text/plain": [
              "68226.2"
            ]
          },
          "metadata": {},
          "execution_count": 9
        }
      ]
    },
    {
      "cell_type": "markdown",
      "source": [
        "## Problem-7\n",
        "\n",
        "Write a function `mstep` that accepts `lamb` and `X` as arguments. It should perform the M-step and return a NumPy array `theta`, the updated parameters, namely. We follow the same convention for storing the parameters as was done during the init step. For the purposes of evaluation, compute the value of the function for `lamb_1` and `X`. Call the returned value `theta_1` ($\\boldsymbol{\\theta}^{(1)}$). Enter $||\\boldsymbol{\\theta}^{(1)}||$  as your answer correct to two decimal places."
      ],
      "metadata": {
        "id": "Fqnf831nLAlP"
      }
    },
    {
      "cell_type": "code",
      "source": [
        "### Solution ###\n",
        "# Function to perform the M-step\n",
        "def mstep(lamb, X):\n",
        "    n, K = lamb.shape\n",
        "\n",
        "    # Updated means\n",
        "    mus = np.sum(lamb * X[:, np.newaxis], axis=0) / np.sum(lamb, axis=0)\n",
        "\n",
        "    # Updated variances\n",
        "    sigmas_squared = np.sum(lamb * (X[:, np.newaxis] - mus)**2, axis=0) / np.sum(lamb, axis=0)\n",
        "\n",
        "    # Updated mixture probabilities\n",
        "    pis = np.mean(lamb, axis=0)\n",
        "\n",
        "    # Combine all into a single array\n",
        "    theta = np.concatenate([mus, sigmas_squared, pis])\n",
        "    return theta\n",
        "\n",
        "# Compute theta_1 using mstep on lamb_1 and X\n",
        "theta_1 = mstep(lamb_1, X)\n",
        "\n",
        "# Compute the norm of theta_1\n",
        "theta_1_norm = np.linalg.norm(theta_1)\n",
        "round(theta_1_norm, 2)\n"
      ],
      "metadata": {
        "id": "k9FSc2QiITDs",
        "outputId": "1cbebf1e-4f26-402a-ce37-5e42e20b4509",
        "colab": {
          "base_uri": "https://localhost:8080/"
        }
      },
      "execution_count": 10,
      "outputs": [
        {
          "output_type": "execute_result",
          "data": {
            "text/plain": [
              "8.69"
            ]
          },
          "metadata": {},
          "execution_count": 10
        }
      ]
    },
    {
      "cell_type": "markdown",
      "source": [
        "## Problem-8\n",
        "\n",
        "Given two vectors $\\boldsymbol{\\theta}^{(t)}$ and $\\boldsymbol{\\theta}^{(t + 1)}$, write a function `distance` that accepts these two vectors as arguments and returns the distance between them:\n",
        "\n",
        "$$\n",
        "||\\boldsymbol{\\theta}^{(t + 1)} - \\boldsymbol{\\theta}^{(t)}||\n",
        "$$\n",
        "\n",
        "For the purposes of evaluation, compute the distance between $\\boldsymbol{\\theta}^{(0)}$ and $\\boldsymbol{\\theta}^{(1)}$ and report your answer correct to two decimal places."
      ],
      "metadata": {
        "id": "0SLzBm4fLRSK"
      }
    },
    {
      "cell_type": "code",
      "source": [
        "### Solution ###\n",
        "# Function to compute the distance between two theta vectors\n",
        "def distance(theta_t, theta_t1):\n",
        "    return np.linalg.norm(theta_t1 - theta_t)\n",
        "\n",
        "# Compute the distance between theta_0 and theta_1\n",
        "dist = distance(theta_0, theta_1)\n",
        "round(dist, 2)"
      ],
      "metadata": {
        "id": "f-dyb9_4IVwI",
        "outputId": "8c434d4c-589f-430a-e250-e0cf47273769",
        "colab": {
          "base_uri": "https://localhost:8080/"
        }
      },
      "execution_count": 11,
      "outputs": [
        {
          "output_type": "execute_result",
          "data": {
            "text/plain": [
              "6.27"
            ]
          },
          "metadata": {},
          "execution_count": 11
        }
      ]
    },
    {
      "cell_type": "markdown",
      "source": [
        "## Problem-9\n",
        "\n",
        "Perform the EM algorithm until convergence. The stopping-criterion is that the distance between the two parameter-vectors should be less than $0.01$.\n",
        "\n",
        "$$\n",
        "||\\boldsymbol{\\theta}^{(t + 1)} - \\boldsymbol{\\theta}^{(t)}|| < 0.01\n",
        "$$\n",
        "\n",
        "\n",
        "Initialize the parameters to $\\boldsymbol{\\theta}^{(0)}$. Find the number of iterations it takes for the algorithm to converge. Enter this as your answer.\n",
        "\n",
        "This is going to take some time. Hold tight!"
      ],
      "metadata": {
        "id": "FFQwFcH6MELs"
      }
    },
    {
      "cell_type": "code",
      "source": [
        "### Solution ###\n",
        "# Function to perform the EM algorithm until convergence\n",
        "def em_algorithm(X, initial_theta, tol=0.01):\n",
        "    theta_t = initial_theta\n",
        "    iterations = 0\n",
        "    while True:\n",
        "        # E-step\n",
        "        lamb = estep(theta_t, X)\n",
        "\n",
        "        # M-step\n",
        "        theta_t1 = mstep(lamb, X)\n",
        "\n",
        "        # Compute distance between theta_t and theta_t1\n",
        "        dist = distance(theta_t, theta_t1)\n",
        "\n",
        "        # Check for convergence\n",
        "        if dist < tol:\n",
        "            break\n",
        "\n",
        "        # Update theta for the next iteration\n",
        "        theta_t = theta_t1\n",
        "        iterations += 1\n",
        "\n",
        "    return iterations\n",
        "\n",
        "# Initialize the parameters to theta_0 and run the EM algorithm\n",
        "iterations_to_convergence = em_algorithm(X, theta_0)\n",
        "iterations_to_convergence"
      ],
      "metadata": {
        "id": "lqRgxVx2IXMp",
        "outputId": "de08d5ac-baae-440d-fada-4e71a159486e",
        "colab": {
          "base_uri": "https://localhost:8080/"
        }
      },
      "execution_count": 12,
      "outputs": [
        {
          "output_type": "execute_result",
          "data": {
            "text/plain": [
              "71"
            ]
          },
          "metadata": {},
          "execution_count": 12
        }
      ]
    },
    {
      "cell_type": "markdown",
      "source": [
        "## Problem-10\n",
        "\n",
        "Let us now verify the correctness of our algorithm. We know the true parameters here:\n",
        "\n",
        "$$\n",
        "\\boldsymbol{\\theta} = \\begin{bmatrix}\n",
        "-4\\\\\n",
        "0\\\\\n",
        "5\\\\\n",
        "2\\\\\n",
        "1\\\\\n",
        "3\\\\\n",
        "0.3\\\\\n",
        "0.5\\\\\n",
        "0.2\n",
        "\\end{bmatrix}\n",
        "$$\n",
        "\n",
        "Let $\\boldsymbol{\\theta}^{*}$ be the parameter at convergence. Compute the distance between this vector and the true parameter vector. Enter your answer correct to two decimal places. The smaller the distance, better our estimate."
      ],
      "metadata": {
        "id": "zB33Rp_4awWp"
      }
    },
    {
      "cell_type": "code",
      "source": [
        "### Solution ###\n",
        "# True parameter vector\n",
        "theta_true = np.array([-4, 0, 5, 2, 1, 3, 0.3, 0.5, 0.2])\n",
        "\n",
        "# Run the EM algorithm to get the final theta at convergence\n",
        "theta_star = theta_0\n",
        "for _ in range(iterations_to_convergence):\n",
        "    lamb = estep(theta_star, X)\n",
        "    theta_star = mstep(lamb, X)\n",
        "\n",
        "# Compute the distance between theta_star and the true parameter vector\n",
        "final_distance = distance(theta_star, theta_true)\n",
        "round(final_distance, 2)"
      ],
      "metadata": {
        "id": "WdfWCxQVbvBy",
        "outputId": "ac8ad907-e19d-4938-f665-4ab12678dd84",
        "colab": {
          "base_uri": "https://localhost:8080/"
        }
      },
      "execution_count": 13,
      "outputs": [
        {
          "output_type": "execute_result",
          "data": {
            "text/plain": [
              "0.11"
            ]
          },
          "metadata": {},
          "execution_count": 13
        }
      ]
    },
    {
      "cell_type": "markdown",
      "source": [
        "## Problem-11\n",
        "\n",
        "We shall do a hard clustering of the data-points. Use the final `lamb` value obtained and cluster the points using:\n",
        "\n",
        "$$\n",
        "z_i = \\operatorname*{argmax} \\limits_{k} \\lambda_k^{i}\n",
        "$$\n",
        "\n",
        "Let $0$, $1$ and $2$ correspond to the colors red, blue and green respectively. Plot three colored histograms on the same figure, one for each cluster."
      ],
      "metadata": {
        "id": "oD5eJxOBMfN-"
      }
    },
    {
      "cell_type": "code",
      "source": [
        "### Solution ###\n",
        "# Hard clustering: Assign each point to the cluster with the highest lambda value\n",
        "z = np.argmax(lamb, axis=1)\n",
        "\n",
        "# Colors for each cluster: 0 -> red, 1 -> blue, 2 -> green\n",
        "colors = ['red', 'blue', 'green']\n",
        "\n",
        "# Plot histograms for each cluster\n",
        "plt.figure(figsize=(10, 6))\n",
        "\n",
        "for k in range(3):\n",
        "    plt.hist(X[z == k], bins=50, alpha=0.5, color=colors[k], label=f'Cluster {k}')\n",
        "\n",
        "plt.title('Clustered Histograms')\n",
        "plt.xlabel('Sample Value')\n",
        "plt.ylabel('Frequency')\n",
        "plt.legend()\n",
        "plt.grid(True)\n",
        "plt.show()\n"
      ],
      "metadata": {
        "id": "NwRMqRTQgWbg",
        "outputId": "03d5b9a3-afba-4419-8269-f32edcc57086",
        "colab": {
          "base_uri": "https://localhost:8080/",
          "height": 564
        }
      },
      "execution_count": 14,
      "outputs": [
        {
          "output_type": "display_data",
          "data": {
            "text/plain": [
              "<Figure size 1000x600 with 1 Axes>"
            ],
            "image/png": "[encoded data removed]"
          },
          "metadata": {}
        }
      ]
    },
    {
      "cell_type": "markdown",
      "source": [
        "## Extras\n",
        "\n",
        "Here are some of the things that can be tried out:\n",
        "\n",
        "- Make the stopping criterion more stringent and see the effect it has on the number of iterations\n",
        "- Change the size of the dataset and study the effect it has on convergence.\n",
        "- Change the initialization and study the effect it has on convergence\n",
        "- Change the number of mixtures and see what happens"
      ],
      "metadata": {
        "id": "mLYpnfPd-aHq"
      }
    }
  ]
}