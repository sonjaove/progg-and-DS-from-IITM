{
 "cells": [
  {
   "cell_type": "code",
   "execution_count": 16,
   "metadata": {},
   "outputs": [],
   "source": [
    "import pandas as pd\n",
    "import numpy as np"
   ]
  },
  {
   "cell_type": "code",
   "execution_count": 17,
   "metadata": {},
   "outputs": [
    {
     "data": {
      "text/plain": [
       "(10000, 12)"
      ]
     },
     "execution_count": 17,
     "metadata": {},
     "output_type": "execute_result"
    }
   ],
   "source": [
    "df=pd.read_csv(r\"C:\\Users\\vvagh\\OneDrive - Indian Institute of Science Education and Research Bhopal\\Documents\\IITM Stuff\\V5.csv\")\n",
    "df.shape"
   ]
  },
  {
   "cell_type": "code",
   "execution_count": 18,
   "metadata": {},
   "outputs": [],
   "source": [
    "df[df.eq('?').any(axis=1)]\n",
    "df.replace('?',np.nan,inplace=True)"
   ]
  },
  {
   "cell_type": "code",
   "execution_count": 19,
   "metadata": {},
   "outputs": [
    {
     "data": {
      "text/plain": [
       "np.float64(798070.0)"
      ]
     },
     "execution_count": 19,
     "metadata": {},
     "output_type": "execute_result"
    }
   ],
   "source": [
    "df.iloc[510,3]"
   ]
  },
  {
   "cell_type": "code",
   "execution_count": 20,
   "metadata": {},
   "outputs": [
    {
     "name": "stdout",
     "output_type": "stream",
     "text": [
      "9917\n"
     ]
    }
   ],
   "source": [
    "def count_nans_in_row(df,thresh=0):\n",
    "    count=0\n",
    "    for i in range(df.shape[0]):\n",
    "        if df.iloc[i].isnull().sum()>thresh:\n",
    "            count+=1\n",
    "    return count\n",
    "\n",
    "print(df.shape[0]-count_nans_in_row(df,2))"
   ]
  },
  {
   "cell_type": "code",
   "execution_count": 21,
   "metadata": {},
   "outputs": [
    {
     "data": {
      "text/plain": [
       "'Single Family'"
      ]
     },
     "execution_count": 21,
     "metadata": {},
     "output_type": "execute_result"
    }
   ],
   "source": [
    "odd_indices=[i for i in range(df.shape[0]) if i%2!=0]\n",
    "df_odd=df.iloc[odd_indices]\n",
    "df_odd.iloc[100,5]"
   ]
  },
  {
   "cell_type": "code",
   "execution_count": 22,
   "metadata": {},
   "outputs": [
    {
     "data": {
      "text/plain": [
       "'Single Family'"
      ]
     },
     "execution_count": 22,
     "metadata": {},
     "output_type": "execute_result"
    }
   ],
   "source": [
    "even_indices=[i for i in range(df.shape[0]) if i%2==0]\n",
    "df_even=df.iloc[even_indices]\n",
    "df_even.iloc[255,5]"
   ]
  },
  {
   "cell_type": "code",
   "execution_count": 23,
   "metadata": {},
   "outputs": [
    {
     "data": {
      "text/html": [
       "<div>\n",
       "<style scoped>\n",
       "    .dataframe tbody tr th:only-of-type {\n",
       "        vertical-align: middle;\n",
       "    }\n",
       "\n",
       "    .dataframe tbody tr th {\n",
       "        vertical-align: top;\n",
       "    }\n",
       "\n",
       "    .dataframe thead th {\n",
       "        text-align: right;\n",
       "    }\n",
       "</style>\n",
       "<table border=\"1\" class=\"dataframe\">\n",
       "  <thead>\n",
       "    <tr style=\"text-align: right;\">\n",
       "      <th></th>\n",
       "      <th>Date</th>\n",
       "      <th>Year</th>\n",
       "      <th>Locality</th>\n",
       "      <th>Estimated Value</th>\n",
       "      <th>Sale Price</th>\n",
       "      <th>Property</th>\n",
       "      <th>Residential</th>\n",
       "      <th>num_rooms</th>\n",
       "      <th>num_bathrooms</th>\n",
       "      <th>carpet_area</th>\n",
       "      <th>property_tax_rate</th>\n",
       "      <th>Face</th>\n",
       "    </tr>\n",
       "  </thead>\n",
       "  <tbody>\n",
       "    <tr>\n",
       "      <th>0</th>\n",
       "      <td>2009-01-02</td>\n",
       "      <td>2009</td>\n",
       "      <td>Waterbury</td>\n",
       "      <td>111440.0</td>\n",
       "      <td>185000.0</td>\n",
       "      <td>Single Family</td>\n",
       "      <td>Detached House</td>\n",
       "      <td>3</td>\n",
       "      <td>3</td>\n",
       "      <td>996.0</td>\n",
       "      <td>1.025953</td>\n",
       "      <td>South</td>\n",
       "    </tr>\n",
       "    <tr>\n",
       "      <th>1</th>\n",
       "      <td>2009-01-02</td>\n",
       "      <td>2009</td>\n",
       "      <td>Bridgeport</td>\n",
       "      <td>124670.0</td>\n",
       "      <td>150000.0</td>\n",
       "      <td>Two Family</td>\n",
       "      <td>Duplex</td>\n",
       "      <td>4</td>\n",
       "      <td>3</td>\n",
       "      <td>1241.0</td>\n",
       "      <td>1.025953</td>\n",
       "      <td>South</td>\n",
       "    </tr>\n",
       "    <tr>\n",
       "      <th>2</th>\n",
       "      <td>2009-01-02</td>\n",
       "      <td>2009</td>\n",
       "      <td>Waterbury</td>\n",
       "      <td>55720.0</td>\n",
       "      <td>140000.0</td>\n",
       "      <td>Single Family</td>\n",
       "      <td>Detached House</td>\n",
       "      <td>3</td>\n",
       "      <td>2</td>\n",
       "      <td>910.0</td>\n",
       "      <td>1.025953</td>\n",
       "      <td>South</td>\n",
       "    </tr>\n",
       "    <tr>\n",
       "      <th>3</th>\n",
       "      <td>2009-01-02</td>\n",
       "      <td>2009</td>\n",
       "      <td>Bridgeport</td>\n",
       "      <td>4775276.0</td>\n",
       "      <td>272900.0</td>\n",
       "      <td>Single Family</td>\n",
       "      <td>Detached House</td>\n",
       "      <td>3</td>\n",
       "      <td>1</td>\n",
       "      <td>971.0</td>\n",
       "      <td>1.025953</td>\n",
       "      <td>East</td>\n",
       "    </tr>\n",
       "    <tr>\n",
       "      <th>4</th>\n",
       "      <td>2009-01-02</td>\n",
       "      <td>2009</td>\n",
       "      <td>Bridgeport</td>\n",
       "      <td>112351.0</td>\n",
       "      <td>210000.0</td>\n",
       "      <td>NaN</td>\n",
       "      <td>Detached House</td>\n",
       "      <td>3</td>\n",
       "      <td>2</td>\n",
       "      <td>1092.0</td>\n",
       "      <td>1.025953</td>\n",
       "      <td>East</td>\n",
       "    </tr>\n",
       "    <tr>\n",
       "      <th>...</th>\n",
       "      <td>...</td>\n",
       "      <td>...</td>\n",
       "      <td>...</td>\n",
       "      <td>...</td>\n",
       "      <td>...</td>\n",
       "      <td>...</td>\n",
       "      <td>...</td>\n",
       "      <td>...</td>\n",
       "      <td>...</td>\n",
       "      <td>...</td>\n",
       "      <td>...</td>\n",
       "      <td>...</td>\n",
       "    </tr>\n",
       "    <tr>\n",
       "      <th>9995</th>\n",
       "      <td>2022-09-30</td>\n",
       "      <td>2022</td>\n",
       "      <td>Bridgeport</td>\n",
       "      <td>153660.0</td>\n",
       "      <td>322000.0</td>\n",
       "      <td>NaN</td>\n",
       "      <td>Detached House</td>\n",
       "      <td>3</td>\n",
       "      <td>3</td>\n",
       "      <td>917.0</td>\n",
       "      <td>1.003979</td>\n",
       "      <td>North</td>\n",
       "    </tr>\n",
       "    <tr>\n",
       "      <th>9996</th>\n",
       "      <td>2022-09-30</td>\n",
       "      <td>2022</td>\n",
       "      <td>Bridgeport</td>\n",
       "      <td>109820.0</td>\n",
       "      <td>340000.0</td>\n",
       "      <td>NaN</td>\n",
       "      <td>Duplex</td>\n",
       "      <td>4</td>\n",
       "      <td>4</td>\n",
       "      <td>1416.0</td>\n",
       "      <td>1.003979</td>\n",
       "      <td>North</td>\n",
       "    </tr>\n",
       "    <tr>\n",
       "      <th>9997</th>\n",
       "      <td>2022-09-30</td>\n",
       "      <td>2022</td>\n",
       "      <td>Waterbury</td>\n",
       "      <td>83210.0</td>\n",
       "      <td>170000.0</td>\n",
       "      <td>Single Family</td>\n",
       "      <td>Detached House</td>\n",
       "      <td>3</td>\n",
       "      <td>1</td>\n",
       "      <td>964.0</td>\n",
       "      <td>1.003979</td>\n",
       "      <td>South</td>\n",
       "    </tr>\n",
       "    <tr>\n",
       "      <th>9998</th>\n",
       "      <td>2022-09-30</td>\n",
       "      <td>2022</td>\n",
       "      <td>NaN</td>\n",
       "      <td>216420.0</td>\n",
       "      <td>415000.0</td>\n",
       "      <td>Single Family</td>\n",
       "      <td>Detached House</td>\n",
       "      <td>3</td>\n",
       "      <td>3</td>\n",
       "      <td>1014.0</td>\n",
       "      <td>1.003979</td>\n",
       "      <td>North</td>\n",
       "    </tr>\n",
       "    <tr>\n",
       "      <th>9999</th>\n",
       "      <td>2022-09-30</td>\n",
       "      <td>2022</td>\n",
       "      <td>Norwalk</td>\n",
       "      <td>154920.0</td>\n",
       "      <td>196000.0</td>\n",
       "      <td>Single Family</td>\n",
       "      <td>Detached House</td>\n",
       "      <td>3</td>\n",
       "      <td>1</td>\n",
       "      <td>932.0</td>\n",
       "      <td>1.003979</td>\n",
       "      <td>East</td>\n",
       "    </tr>\n",
       "  </tbody>\n",
       "</table>\n",
       "<p>10000 rows × 12 columns</p>\n",
       "</div>"
      ],
      "text/plain": [
       "            Date  Year    Locality  Estimated Value  Sale Price  \\\n",
       "0     2009-01-02  2009   Waterbury         111440.0    185000.0   \n",
       "1     2009-01-02  2009  Bridgeport         124670.0    150000.0   \n",
       "2     2009-01-02  2009   Waterbury          55720.0    140000.0   \n",
       "3     2009-01-02  2009  Bridgeport        4775276.0    272900.0   \n",
       "4     2009-01-02  2009  Bridgeport         112351.0    210000.0   \n",
       "...          ...   ...         ...              ...         ...   \n",
       "9995  2022-09-30  2022  Bridgeport         153660.0    322000.0   \n",
       "9996  2022-09-30  2022  Bridgeport         109820.0    340000.0   \n",
       "9997  2022-09-30  2022   Waterbury          83210.0    170000.0   \n",
       "9998  2022-09-30  2022         NaN         216420.0    415000.0   \n",
       "9999  2022-09-30  2022     Norwalk         154920.0    196000.0   \n",
       "\n",
       "           Property     Residential  num_rooms  num_bathrooms  carpet_area  \\\n",
       "0     Single Family  Detached House          3              3        996.0   \n",
       "1        Two Family          Duplex          4              3       1241.0   \n",
       "2     Single Family  Detached House          3              2        910.0   \n",
       "3     Single Family  Detached House          3              1        971.0   \n",
       "4               NaN  Detached House          3              2       1092.0   \n",
       "...             ...             ...        ...            ...          ...   \n",
       "9995            NaN  Detached House          3              3        917.0   \n",
       "9996            NaN          Duplex          4              4       1416.0   \n",
       "9997  Single Family  Detached House          3              1        964.0   \n",
       "9998  Single Family  Detached House          3              3       1014.0   \n",
       "9999  Single Family  Detached House          3              1        932.0   \n",
       "\n",
       "      property_tax_rate   Face  \n",
       "0              1.025953  South  \n",
       "1              1.025953  South  \n",
       "2              1.025953  South  \n",
       "3              1.025953   East  \n",
       "4              1.025953   East  \n",
       "...                 ...    ...  \n",
       "9995           1.003979  North  \n",
       "9996           1.003979  North  \n",
       "9997           1.003979  South  \n",
       "9998           1.003979  North  \n",
       "9999           1.003979   East  \n",
       "\n",
       "[10000 rows x 12 columns]"
      ]
     },
     "execution_count": 23,
     "metadata": {},
     "output_type": "execute_result"
    }
   ],
   "source": [
    "df"
   ]
  },
  {
   "cell_type": "code",
   "execution_count": 24,
   "metadata": {},
   "outputs": [
    {
     "data": {
      "text/plain": [
       "(1712, 1712)"
      ]
     },
     "execution_count": 24,
     "metadata": {},
     "output_type": "execute_result"
    }
   ],
   "source": [
    "def count_bath_and_rooms(df, n_b, n_r):\n",
    "    count_bath = 0\n",
    "    count_rooms = 0\n",
    "    for i in range(df.shape[0]):\n",
    "        if df.iloc[i, 8] > n_b or df.iloc[i, 7] > n_r:\n",
    "            count_bath += 1\n",
    "            count_rooms += 1\n",
    "    return count_bath, count_rooms\n",
    "\n",
    "count_bath_and_rooms(df, 3, 3)"
   ]
  },
  {
   "cell_type": "code",
   "execution_count": 25,
   "metadata": {},
   "outputs": [
    {
     "data": {
      "text/plain": [
       "0"
      ]
     },
     "execution_count": 25,
     "metadata": {},
     "output_type": "execute_result"
    }
   ],
   "source": [
    "df_2022=df[df['Year']==2022]\n",
    "houses=0\n",
    "loc='Greenwich'\n",
    "n_r=3\n",
    "# facing north or east.\n",
    "for i in range(df_2022.shape[0]):\n",
    "    if (df_2022.iloc[i, 2]==loc) and (df_2022.iloc[i, 7]==n_r) and (df_2022.iloc[i, 9]=='North' or df_2022.iloc[i, 9]=='East'):\n",
    "        houses+=1\n",
    "houses"
   ]
  },
  {
   "cell_type": "code",
   "execution_count": 26,
   "metadata": {},
   "outputs": [
    {
     "name": "stderr",
     "output_type": "stream",
     "text": [
      "<>:1: SyntaxWarning: invalid escape sequence '\\d'\n",
      "<>:1: SyntaxWarning: invalid escape sequence '\\d'\n",
      "C:\\Users\\vvagh\\AppData\\Local\\Temp\\ipykernel_10488\\1850056445.py:1: SyntaxWarning: invalid escape sequence '\\d'\n",
      "  reg_expression='^\\d{4}-08-\\d{2}$'\n"
     ]
    },
    {
     "data": {
      "text/plain": [
       "1050"
      ]
     },
     "execution_count": 26,
     "metadata": {},
     "output_type": "execute_result"
    }
   ],
   "source": [
    "reg_expression='^\\d{4}-08-\\d{2}$'\n",
    "df_aug=df[df['Date'].str.match(reg_expression)]\n",
    "df_aug.shape[0]"
   ]
  },
  {
   "cell_type": "code",
   "execution_count": 27,
   "metadata": {},
   "outputs": [
    {
     "data": {
      "text/plain": [
       "'Greenwich'"
      ]
     },
     "execution_count": 27,
     "metadata": {},
     "output_type": "execute_result"
    }
   ],
   "source": [
    "df.groupby('Locality')['Sale Price'].mean().idxmax()"
   ]
  }
 ],
 "metadata": {
  "kernelspec": {
   "display_name": "stenv",
   "language": "python",
   "name": "python3"
  },
  "language_info": {
   "codemirror_mode": {
    "name": "ipython",
    "version": 3
   },
   "file_extension": ".py",
   "mimetype": "text/x-python",
   "name": "python",
   "nbconvert_exporter": "python",
   "pygments_lexer": "ipython3",
   "version": "3.12.4"
  }
 },
 "nbformat": 4,
 "nbformat_minor": 2
}
