{
 "cells": [
  {
   "cell_type": "code",
   "execution_count": 1,
   "metadata": {},
   "outputs": [
    {
     "name": "stdout",
     "output_type": "stream",
     "text": [
      "The eigenvalue is: 4.557905337361531\n"
     ]
    }
   ],
   "source": [
    "import numpy as np\n",
    "\n",
    "# Example covariance matrix A\n",
    "A = np.array([[4.5, -0.5], \n",
    "              [-0.5, 0.25]])\n",
    "\n",
    "# Given eigenvector v\n",
    "v = np.array([-0.993, 0.115])\n",
    "\n",
    "# Multiply covariance matrix A by eigenvector v\n",
    "Av = np.dot(A, v)\n",
    "\n",
    "# Find the eigenvalue as the ratio of corresponding elements\n",
    "eigenvalue = Av[0] / v[0]  # or Av[1] / v[1]\n",
    "\n",
    "print(f\"The eigenvalue is: {eigenvalue}\")\n"
   ]
  },
  {
   "cell_type": "code",
   "execution_count": 3,
   "metadata": {},
   "outputs": [
    {
     "data": {
      "text/plain": [
       "7"
      ]
     },
     "execution_count": 3,
     "metadata": {},
     "output_type": "execute_result"
    }
   ],
   "source": [
    "def f(n):\n",
    "    s=0\n",
    "    for i in range(2,n):\n",
    "        if n%i==0 and i%2==0:\n",
    "            s+=1\n",
    "    return s\n",
    "\n",
    "f(60)-f(59)"
   ]
  },
  {
   "cell_type": "code",
   "execution_count": 4,
   "metadata": {},
   "outputs": [
    {
     "name": "stdout",
     "output_type": "stream",
     "text": [
      "1234"
     ]
    }
   ],
   "source": [
    "x=1\n",
    "while True:\n",
    "    if x%5 ==0:\n",
    "        break\n",
    "    print(x, end='')\n",
    "    x+=1"
   ]
  },
  {
   "cell_type": "code",
   "execution_count": 6,
   "metadata": {},
   "outputs": [
    {
     "name": "stdout",
     "output_type": "stream",
     "text": [
      "second element is=2\n",
      "An error occured\n"
     ]
    }
   ],
   "source": [
    "a=[1,2,3]\n",
    "try:\n",
    "    print(\"second element is=%d\"%a[1])\n",
    "    print(\"fourth element is=%d\"%a[3])\n",
    "except:\n",
    "    print(\"An error occured\")"
   ]
  },
  {
   "cell_type": "code",
   "execution_count": 20,
   "metadata": {},
   "outputs": [
    {
     "data": {
      "text/plain": [
       "False"
      ]
     },
     "execution_count": 20,
     "metadata": {},
     "output_type": "execute_result"
    }
   ],
   "source": [
    "def special(l):\n",
    "    try:\n",
    "        while len(l)>0:\n",
    "            if l.pop(0)!=l.pop(-1):\n",
    "                return False\n",
    "        return True\n",
    "    except IndexError:\n",
    "        print(\"index Error\")\n",
    "    except:\n",
    "        print(\"An error occured\")\n",
    "    else:\n",
    "        print(\"No error\")\n",
    "special([2,4,6])"
   ]
  },
  {
   "cell_type": "code",
   "execution_count": 23,
   "metadata": {},
   "outputs": [
    {
     "name": "stdout",
     "output_type": "stream",
     "text": [
      "Number of calls to the function (ignoring the base case): 9\n"
     ]
    }
   ],
   "source": [
    "def gcd(m, n, counter=[0]):\n",
    "    (a, b) = max(m, n), min(m, n)\n",
    "    counter[0] += 1  # Increment the counter each time gcd is called\n",
    "    \n",
    "    if a % b == 0:\n",
    "        return b, counter[0]\n",
    "    else:\n",
    "        return gcd(b, a % b, counter)\n",
    "\n",
    "# Calling the function and ignoring the base case count\n",
    "gcd_result, call_count = gcd(2437, 875)\n",
    "print(f\"Number of calls to the function (ignoring the base case): {call_count}\")\n"
   ]
  }
 ],
 "metadata": {
  "kernelspec": {
   "display_name": "stenv",
   "language": "python",
   "name": "python3"
  },
  "language_info": {
   "codemirror_mode": {
    "name": "ipython",
    "version": 3
   },
   "file_extension": ".py",
   "mimetype": "text/x-python",
   "name": "python",
   "nbconvert_exporter": "python",
   "pygments_lexer": "ipython3",
   "version": "3.12.4"
  }
 },
 "nbformat": 4,
 "nbformat_minor": 2
}
