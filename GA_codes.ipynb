{
 "cells": [
  {
   "cell_type": "code",
   "execution_count": 1,
   "metadata": {},
   "outputs": [],
   "source": [
    "def heapify(arr, n, i):\n",
    "    largest = i\n",
    "    left = 2 * i + 1\n",
    "    right = 2 * i + 2\n",
    "\n",
    "    if left < n and arr[left] > arr[largest]:\n",
    "        largest = left\n",
    "\n",
    "    if right < n and arr[right] > arr[largest]:\n",
    "        largest = right\n",
    "\n",
    "    if largest != i:\n",
    "        arr[i], arr[largest] = arr[largest], arr[i]\n",
    "        heapify(arr, n, largest)\n",
    "\n",
    "def build_max_heap(arr):\n",
    "    n = len(arr)\n",
    "    for i in range(n // 2 - 1, -1, -1):\n",
    "        heapify(arr, n, i)\n",
    "    return arr"
   ]
  },
  {
   "cell_type": "code",
   "execution_count": 2,
   "metadata": {},
   "outputs": [
    {
     "data": {
      "text/plain": [
       "[7, 5, 6, 1, 2, 3, 4]"
      ]
     },
     "execution_count": 2,
     "metadata": {},
     "output_type": "execute_result"
    }
   ],
   "source": [
    "build_max_heap([1,2,3,5,7,6,4])"
   ]
  },
  {
   "cell_type": "code",
   "execution_count": 3,
   "metadata": {},
   "outputs": [
    {
     "data": {
      "text/plain": [
       "[40, 30, 18, 20, 25, 16, 17, 10, 4, 15]"
      ]
     },
     "execution_count": 3,
     "metadata": {},
     "output_type": "execute_result"
    }
   ],
   "source": [
    "build_max_heap([40,30,18,20,15,16,17,10,4,25])"
   ]
  },
  {
   "cell_type": "code",
   "execution_count": 4,
   "metadata": {},
   "outputs": [
    {
     "name": "stdout",
     "output_type": "stream",
     "text": [
      "[11, 12, 10, 16, 19, 18, 20, 15]\n"
     ]
    }
   ],
   "source": [
    "class Node:\n",
    "    def __init__(self, key):\n",
    "        self.left = None\n",
    "        self.right = None\n",
    "        self.val = key\n",
    "\n",
    "def construct_bst_from_preorder(preorder):\n",
    "    if not preorder:\n",
    "        return None\n",
    "\n",
    "    root = Node(preorder[0])\n",
    "    stack = [root]\n",
    "\n",
    "    for value in preorder[1:]:\n",
    "        node = Node(value)\n",
    "        if value < stack[-1].val:\n",
    "            stack[-1].left = node\n",
    "        else:\n",
    "            while stack and stack[-1].val < value:\n",
    "                last_node = stack.pop()\n",
    "            last_node.right = node\n",
    "        stack.append(node)\n",
    "\n",
    "    return root\n",
    "\n",
    "def post_order_traversal(root):\n",
    "    if root is None:\n",
    "        return []\n",
    "    result = []\n",
    "    result += post_order_traversal(root.left)\n",
    "    result += post_order_traversal(root.right)\n",
    "    result.append(root.val)\n",
    "    return result\n",
    "\n",
    "# Example usage\n",
    "preorder = [15,10,12,11,20,18,16,19]\n",
    "root = construct_bst_from_preorder(preorder)\n",
    "post_order = post_order_traversal(root)\n",
    "print(post_order)\n"
   ]
  }
 ],
 "metadata": {
  "kernelspec": {
   "display_name": "stenv",
   "language": "python",
   "name": "python3"
  },
  "language_info": {
   "codemirror_mode": {
    "name": "ipython",
    "version": 3
   },
   "file_extension": ".py",
   "mimetype": "text/x-python",
   "name": "python",
   "nbconvert_exporter": "python",
   "pygments_lexer": "ipython3",
   "version": "3.12.4"
  }
 },
 "nbformat": 4,
 "nbformat_minor": 2
}
