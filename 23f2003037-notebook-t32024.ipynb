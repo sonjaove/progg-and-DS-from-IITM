{
 "cells": [
  {
   "cell_type": "code",
   "execution_count": 1,
   "id": "f330eec1",
   "metadata": {
    "_cell_guid": "b1076dfc-b9ad-4769-8c92-a6c4dae69d19",
    "_uuid": "8f2839f25d086af736a60e9eeb907d3b93b6e0e5",
    "execution": {
     "iopub.execute_input": "2024-10-11T12:52:21.727970Z",
     "iopub.status.busy": "2024-10-11T12:52:21.727546Z",
     "iopub.status.idle": "2024-10-11T12:52:24.221369Z",
     "shell.execute_reply": "2024-10-11T12:52:24.220226Z"
    },
    "papermill": {
     "duration": 2.505486,
     "end_time": "2024-10-11T12:52:24.224264",
     "exception": false,
     "start_time": "2024-10-11T12:52:21.718778",
     "status": "completed"
    },
    "tags": []
   },
   "outputs": [],
   "source": [
    "# necessary imports.\n",
    "import numpy as np # linear algebra\n",
    "import pandas as pd # data processing, CSV file I/O (e.g. pd.read_csv)\n",
    "import seaborn as sns\n",
    "import matplotlib.pyplot as plt\n",
    "import plotly as pt\n",
    "import os\n",
    "from sklearn.preprocessing import OrdinalEncoder\n",
    "# Input data files are available in the read-only \"../input/\" directory\n",
    "# For example, running this (by clicking run or pressing Shift+Enter) will list all files under the input directory\n",
    "# import os\n",
    "# for dirname, _, filenames in os.walk('/kaggle/input'):\n",
    "#     for filename in filenames:\n",
    "#         print(os.path.join(dirname, filename))\n",
    "\n",
    "# # You can write up to 20GB to the current directory (/kaggle/working/) that gets preserved as output when you create a version using \"Save & Run All\" \n",
    "# # You can also write temporary files to /kaggle/temp/, but they won't be saved outside of the current session"
   ]
  },
  {
   "cell_type": "markdown",
   "id": "df6a833d",
   "metadata": {
    "papermill": {
     "duration": 0.006193,
     "end_time": "2024-10-11T12:52:24.237601",
     "exception": false,
     "start_time": "2024-10-11T12:52:24.231408",
     "status": "completed"
    },
    "tags": []
   },
   "source": [
    "## Only the following libraries will be allowed to be used in the competition:\n",
    "\n",
    "1. NumPy\n",
    "2. Pandas\n",
    "3. Matplotlib\n",
    "4. Scikit-learn \n",
    "5. XGBoost\n",
    "6. Seaborn\n",
    "7. Imblearn\n",
    "8. SciPy\n",
    "9. Pickle\n",
    "10. regex\n",
    "11. Lightgbm\n",
    "12. Plotly"
   ]
  },
  {
   "cell_type": "markdown",
   "id": "1c4a5ce0",
   "metadata": {
    "papermill": {
     "duration": 0.006284,
     "end_time": "2024-10-11T12:52:24.250499",
     "exception": false,
     "start_time": "2024-10-11T12:52:24.244215",
     "status": "completed"
    },
    "tags": []
   },
   "source": [
    "## Loading the data"
   ]
  },
  {
   "cell_type": "code",
   "execution_count": 2,
   "id": "30597509",
   "metadata": {
    "execution": {
     "iopub.execute_input": "2024-10-11T12:52:24.265996Z",
     "iopub.status.busy": "2024-10-11T12:52:24.265249Z",
     "iopub.status.idle": "2024-10-11T12:52:24.470464Z",
     "shell.execute_reply": "2024-10-11T12:52:24.469342Z"
    },
    "papermill": {
     "duration": 0.215816,
     "end_time": "2024-10-11T12:52:24.472845",
     "exception": false,
     "start_time": "2024-10-11T12:52:24.257029",
     "status": "completed"
    },
    "tags": []
   },
   "outputs": [
    {
     "data": {
      "text/html": [
       "<div>\n",
       "<style scoped>\n",
       "    .dataframe tbody tr th:only-of-type {\n",
       "        vertical-align: middle;\n",
       "    }\n",
       "\n",
       "    .dataframe tbody tr th {\n",
       "        vertical-align: top;\n",
       "    }\n",
       "\n",
       "    .dataframe thead th {\n",
       "        text-align: right;\n",
       "    }\n",
       "</style>\n",
       "<table border=\"1\" class=\"dataframe\">\n",
       "  <thead>\n",
       "    <tr style=\"text-align: right;\">\n",
       "      <th></th>\n",
       "      <th>last contact date</th>\n",
       "      <th>age</th>\n",
       "      <th>job</th>\n",
       "      <th>marital</th>\n",
       "      <th>education</th>\n",
       "      <th>default</th>\n",
       "      <th>balance</th>\n",
       "      <th>housing</th>\n",
       "      <th>loan</th>\n",
       "      <th>contact</th>\n",
       "      <th>duration</th>\n",
       "      <th>campaign</th>\n",
       "      <th>pdays</th>\n",
       "      <th>previous</th>\n",
       "      <th>poutcome</th>\n",
       "      <th>target</th>\n",
       "    </tr>\n",
       "  </thead>\n",
       "  <tbody>\n",
       "    <tr>\n",
       "      <th>0</th>\n",
       "      <td>2009-04-17</td>\n",
       "      <td>26</td>\n",
       "      <td>blue-collar</td>\n",
       "      <td>married</td>\n",
       "      <td>secondary</td>\n",
       "      <td>no</td>\n",
       "      <td>647</td>\n",
       "      <td>yes</td>\n",
       "      <td>no</td>\n",
       "      <td>cellular</td>\n",
       "      <td>357</td>\n",
       "      <td>2</td>\n",
       "      <td>331</td>\n",
       "      <td>1</td>\n",
       "      <td>other</td>\n",
       "      <td>no</td>\n",
       "    </tr>\n",
       "    <tr>\n",
       "      <th>1</th>\n",
       "      <td>2009-10-11</td>\n",
       "      <td>52</td>\n",
       "      <td>technician</td>\n",
       "      <td>married</td>\n",
       "      <td>secondary</td>\n",
       "      <td>no</td>\n",
       "      <td>553</td>\n",
       "      <td>yes</td>\n",
       "      <td>no</td>\n",
       "      <td>telephone</td>\n",
       "      <td>160</td>\n",
       "      <td>1</td>\n",
       "      <td>-1</td>\n",
       "      <td>0</td>\n",
       "      <td>NaN</td>\n",
       "      <td>no</td>\n",
       "    </tr>\n",
       "    <tr>\n",
       "      <th>2</th>\n",
       "      <td>2010-11-20</td>\n",
       "      <td>44</td>\n",
       "      <td>blue-collar</td>\n",
       "      <td>married</td>\n",
       "      <td>secondary</td>\n",
       "      <td>no</td>\n",
       "      <td>1397</td>\n",
       "      <td>no</td>\n",
       "      <td>no</td>\n",
       "      <td>cellular</td>\n",
       "      <td>326</td>\n",
       "      <td>1</td>\n",
       "      <td>-1</td>\n",
       "      <td>0</td>\n",
       "      <td>NaN</td>\n",
       "      <td>no</td>\n",
       "    </tr>\n",
       "    <tr>\n",
       "      <th>3</th>\n",
       "      <td>2009-09-01</td>\n",
       "      <td>33</td>\n",
       "      <td>admin.</td>\n",
       "      <td>married</td>\n",
       "      <td>secondary</td>\n",
       "      <td>no</td>\n",
       "      <td>394</td>\n",
       "      <td>yes</td>\n",
       "      <td>no</td>\n",
       "      <td>telephone</td>\n",
       "      <td>104</td>\n",
       "      <td>3</td>\n",
       "      <td>-1</td>\n",
       "      <td>0</td>\n",
       "      <td>NaN</td>\n",
       "      <td>no</td>\n",
       "    </tr>\n",
       "    <tr>\n",
       "      <th>4</th>\n",
       "      <td>2008-01-29</td>\n",
       "      <td>31</td>\n",
       "      <td>entrepreneur</td>\n",
       "      <td>single</td>\n",
       "      <td>tertiary</td>\n",
       "      <td>no</td>\n",
       "      <td>137</td>\n",
       "      <td>no</td>\n",
       "      <td>no</td>\n",
       "      <td>cellular</td>\n",
       "      <td>445</td>\n",
       "      <td>2</td>\n",
       "      <td>-1</td>\n",
       "      <td>0</td>\n",
       "      <td>NaN</td>\n",
       "      <td>no</td>\n",
       "    </tr>\n",
       "    <tr>\n",
       "      <th>...</th>\n",
       "      <td>...</td>\n",
       "      <td>...</td>\n",
       "      <td>...</td>\n",
       "      <td>...</td>\n",
       "      <td>...</td>\n",
       "      <td>...</td>\n",
       "      <td>...</td>\n",
       "      <td>...</td>\n",
       "      <td>...</td>\n",
       "      <td>...</td>\n",
       "      <td>...</td>\n",
       "      <td>...</td>\n",
       "      <td>...</td>\n",
       "      <td>...</td>\n",
       "      <td>...</td>\n",
       "      <td>...</td>\n",
       "    </tr>\n",
       "    <tr>\n",
       "      <th>39206</th>\n",
       "      <td>2008-07-31</td>\n",
       "      <td>31</td>\n",
       "      <td>technician</td>\n",
       "      <td>single</td>\n",
       "      <td>secondary</td>\n",
       "      <td>no</td>\n",
       "      <td>0</td>\n",
       "      <td>yes</td>\n",
       "      <td>no</td>\n",
       "      <td>cellular</td>\n",
       "      <td>16</td>\n",
       "      <td>34</td>\n",
       "      <td>-1</td>\n",
       "      <td>0</td>\n",
       "      <td>NaN</td>\n",
       "      <td>no</td>\n",
       "    </tr>\n",
       "    <tr>\n",
       "      <th>39207</th>\n",
       "      <td>2009-07-31</td>\n",
       "      <td>59</td>\n",
       "      <td>admin.</td>\n",
       "      <td>married</td>\n",
       "      <td>primary</td>\n",
       "      <td>no</td>\n",
       "      <td>6187</td>\n",
       "      <td>no</td>\n",
       "      <td>no</td>\n",
       "      <td>cellular</td>\n",
       "      <td>114</td>\n",
       "      <td>4</td>\n",
       "      <td>-1</td>\n",
       "      <td>0</td>\n",
       "      <td>NaN</td>\n",
       "      <td>no</td>\n",
       "    </tr>\n",
       "    <tr>\n",
       "      <th>39208</th>\n",
       "      <td>2008-06-02</td>\n",
       "      <td>36</td>\n",
       "      <td>blue-collar</td>\n",
       "      <td>married</td>\n",
       "      <td>secondary</td>\n",
       "      <td>no</td>\n",
       "      <td>63</td>\n",
       "      <td>yes</td>\n",
       "      <td>no</td>\n",
       "      <td>NaN</td>\n",
       "      <td>56</td>\n",
       "      <td>8</td>\n",
       "      <td>-1</td>\n",
       "      <td>0</td>\n",
       "      <td>NaN</td>\n",
       "      <td>no</td>\n",
       "    </tr>\n",
       "    <tr>\n",
       "      <th>39209</th>\n",
       "      <td>2010-03-20</td>\n",
       "      <td>28</td>\n",
       "      <td>student</td>\n",
       "      <td>single</td>\n",
       "      <td>secondary</td>\n",
       "      <td>no</td>\n",
       "      <td>5916</td>\n",
       "      <td>no</td>\n",
       "      <td>no</td>\n",
       "      <td>cellular</td>\n",
       "      <td>93</td>\n",
       "      <td>5</td>\n",
       "      <td>-1</td>\n",
       "      <td>0</td>\n",
       "      <td>NaN</td>\n",
       "      <td>no</td>\n",
       "    </tr>\n",
       "    <tr>\n",
       "      <th>39210</th>\n",
       "      <td>2010-03-16</td>\n",
       "      <td>51</td>\n",
       "      <td>student</td>\n",
       "      <td>divorced</td>\n",
       "      <td>tertiary</td>\n",
       "      <td>yes</td>\n",
       "      <td>38594</td>\n",
       "      <td>yes</td>\n",
       "      <td>no</td>\n",
       "      <td>cellular</td>\n",
       "      <td>1877</td>\n",
       "      <td>19</td>\n",
       "      <td>780</td>\n",
       "      <td>148</td>\n",
       "      <td>success</td>\n",
       "      <td>yes</td>\n",
       "    </tr>\n",
       "  </tbody>\n",
       "</table>\n",
       "<p>39211 rows × 16 columns</p>\n",
       "</div>"
      ],
      "text/plain": [
       "      last contact date  age           job   marital  education default  \\\n",
       "0            2009-04-17   26   blue-collar   married  secondary      no   \n",
       "1            2009-10-11   52    technician   married  secondary      no   \n",
       "2            2010-11-20   44   blue-collar   married  secondary      no   \n",
       "3            2009-09-01   33        admin.   married  secondary      no   \n",
       "4            2008-01-29   31  entrepreneur    single   tertiary      no   \n",
       "...                 ...  ...           ...       ...        ...     ...   \n",
       "39206        2008-07-31   31    technician    single  secondary      no   \n",
       "39207        2009-07-31   59        admin.   married    primary      no   \n",
       "39208        2008-06-02   36   blue-collar   married  secondary      no   \n",
       "39209        2010-03-20   28       student    single  secondary      no   \n",
       "39210        2010-03-16   51       student  divorced   tertiary     yes   \n",
       "\n",
       "       balance housing loan    contact  duration  campaign  pdays  previous  \\\n",
       "0          647     yes   no   cellular       357         2    331         1   \n",
       "1          553     yes   no  telephone       160         1     -1         0   \n",
       "2         1397      no   no   cellular       326         1     -1         0   \n",
       "3          394     yes   no  telephone       104         3     -1         0   \n",
       "4          137      no   no   cellular       445         2     -1         0   \n",
       "...        ...     ...  ...        ...       ...       ...    ...       ...   \n",
       "39206        0     yes   no   cellular        16        34     -1         0   \n",
       "39207     6187      no   no   cellular       114         4     -1         0   \n",
       "39208       63     yes   no        NaN        56         8     -1         0   \n",
       "39209     5916      no   no   cellular        93         5     -1         0   \n",
       "39210    38594     yes   no   cellular      1877        19    780       148   \n",
       "\n",
       "      poutcome target  \n",
       "0        other     no  \n",
       "1          NaN     no  \n",
       "2          NaN     no  \n",
       "3          NaN     no  \n",
       "4          NaN     no  \n",
       "...        ...    ...  \n",
       "39206      NaN     no  \n",
       "39207      NaN     no  \n",
       "39208      NaN     no  \n",
       "39209      NaN     no  \n",
       "39210  success    yes  \n",
       "\n",
       "[39211 rows x 16 columns]"
      ]
     },
     "execution_count": 2,
     "metadata": {},
     "output_type": "execute_result"
    }
   ],
   "source": [
    "train=pd.read_csv(r'/kaggle/input/predict-the-success-of-bank-telemarketing/train.csv')\n",
    "train"
   ]
  },
  {
   "cell_type": "code",
   "execution_count": 3,
   "id": "9c96f110",
   "metadata": {
    "execution": {
     "iopub.execute_input": "2024-10-11T12:52:24.490451Z",
     "iopub.status.busy": "2024-10-11T12:52:24.489587Z",
     "iopub.status.idle": "2024-10-11T12:52:24.552206Z",
     "shell.execute_reply": "2024-10-11T12:52:24.551077Z"
    },
    "papermill": {
     "duration": 0.074638,
     "end_time": "2024-10-11T12:52:24.555007",
     "exception": false,
     "start_time": "2024-10-11T12:52:24.480369",
     "status": "completed"
    },
    "tags": []
   },
   "outputs": [
    {
     "name": "stdout",
     "output_type": "stream",
     "text": [
      "<class 'pandas.core.frame.DataFrame'>\n",
      "RangeIndex: 39211 entries, 0 to 39210\n",
      "Data columns (total 16 columns):\n",
      " #   Column             Non-Null Count  Dtype \n",
      "---  ------             --------------  ----- \n",
      " 0   last contact date  39211 non-null  object\n",
      " 1   age                39211 non-null  int64 \n",
      " 2   job                38982 non-null  object\n",
      " 3   marital            39211 non-null  object\n",
      " 4   education          37744 non-null  object\n",
      " 5   default            39211 non-null  object\n",
      " 6   balance            39211 non-null  int64 \n",
      " 7   housing            39211 non-null  object\n",
      " 8   loan               39211 non-null  object\n",
      " 9   contact            28875 non-null  object\n",
      " 10  duration           39211 non-null  int64 \n",
      " 11  campaign           39211 non-null  int64 \n",
      " 12  pdays              39211 non-null  int64 \n",
      " 13  previous           39211 non-null  int64 \n",
      " 14  poutcome           9760 non-null   object\n",
      " 15  target             39211 non-null  object\n",
      "dtypes: int64(6), object(10)\n",
      "memory usage: 4.8+ MB\n"
     ]
    }
   ],
   "source": [
    "train.info()"
   ]
  },
  {
   "cell_type": "code",
   "execution_count": 4,
   "id": "32730ce3",
   "metadata": {
    "execution": {
     "iopub.execute_input": "2024-10-11T12:52:24.571913Z",
     "iopub.status.busy": "2024-10-11T12:52:24.571476Z",
     "iopub.status.idle": "2024-10-11T12:52:24.613722Z",
     "shell.execute_reply": "2024-10-11T12:52:24.612627Z"
    },
    "papermill": {
     "duration": 0.05359,
     "end_time": "2024-10-11T12:52:24.616102",
     "exception": false,
     "start_time": "2024-10-11T12:52:24.562512",
     "status": "completed"
    },
    "tags": []
   },
   "outputs": [
    {
     "data": {
      "text/html": [
       "<div>\n",
       "<style scoped>\n",
       "    .dataframe tbody tr th:only-of-type {\n",
       "        vertical-align: middle;\n",
       "    }\n",
       "\n",
       "    .dataframe tbody tr th {\n",
       "        vertical-align: top;\n",
       "    }\n",
       "\n",
       "    .dataframe thead th {\n",
       "        text-align: right;\n",
       "    }\n",
       "</style>\n",
       "<table border=\"1\" class=\"dataframe\">\n",
       "  <thead>\n",
       "    <tr style=\"text-align: right;\">\n",
       "      <th></th>\n",
       "      <th>age</th>\n",
       "      <th>balance</th>\n",
       "      <th>duration</th>\n",
       "      <th>campaign</th>\n",
       "      <th>pdays</th>\n",
       "      <th>previous</th>\n",
       "    </tr>\n",
       "  </thead>\n",
       "  <tbody>\n",
       "    <tr>\n",
       "      <th>count</th>\n",
       "      <td>39211.000000</td>\n",
       "      <td>39211.000000</td>\n",
       "      <td>39211.000000</td>\n",
       "      <td>39211.000000</td>\n",
       "      <td>39211.000000</td>\n",
       "      <td>39211.000000</td>\n",
       "    </tr>\n",
       "    <tr>\n",
       "      <th>mean</th>\n",
       "      <td>42.120247</td>\n",
       "      <td>5441.781719</td>\n",
       "      <td>439.062789</td>\n",
       "      <td>5.108770</td>\n",
       "      <td>72.256051</td>\n",
       "      <td>11.826171</td>\n",
       "    </tr>\n",
       "    <tr>\n",
       "      <th>std</th>\n",
       "      <td>12.709352</td>\n",
       "      <td>16365.292065</td>\n",
       "      <td>769.096291</td>\n",
       "      <td>9.890153</td>\n",
       "      <td>160.942593</td>\n",
       "      <td>44.140259</td>\n",
       "    </tr>\n",
       "    <tr>\n",
       "      <th>min</th>\n",
       "      <td>18.000000</td>\n",
       "      <td>-8019.000000</td>\n",
       "      <td>0.000000</td>\n",
       "      <td>1.000000</td>\n",
       "      <td>-1.000000</td>\n",
       "      <td>0.000000</td>\n",
       "    </tr>\n",
       "    <tr>\n",
       "      <th>25%</th>\n",
       "      <td>33.000000</td>\n",
       "      <td>98.000000</td>\n",
       "      <td>109.000000</td>\n",
       "      <td>1.000000</td>\n",
       "      <td>-1.000000</td>\n",
       "      <td>0.000000</td>\n",
       "    </tr>\n",
       "    <tr>\n",
       "      <th>50%</th>\n",
       "      <td>40.000000</td>\n",
       "      <td>549.000000</td>\n",
       "      <td>197.000000</td>\n",
       "      <td>2.000000</td>\n",
       "      <td>-1.000000</td>\n",
       "      <td>0.000000</td>\n",
       "    </tr>\n",
       "    <tr>\n",
       "      <th>75%</th>\n",
       "      <td>50.000000</td>\n",
       "      <td>2030.000000</td>\n",
       "      <td>380.000000</td>\n",
       "      <td>4.000000</td>\n",
       "      <td>-1.000000</td>\n",
       "      <td>0.000000</td>\n",
       "    </tr>\n",
       "    <tr>\n",
       "      <th>max</th>\n",
       "      <td>95.000000</td>\n",
       "      <td>102127.000000</td>\n",
       "      <td>4918.000000</td>\n",
       "      <td>63.000000</td>\n",
       "      <td>871.000000</td>\n",
       "      <td>275.000000</td>\n",
       "    </tr>\n",
       "  </tbody>\n",
       "</table>\n",
       "</div>"
      ],
      "text/plain": [
       "                age        balance      duration      campaign         pdays  \\\n",
       "count  39211.000000   39211.000000  39211.000000  39211.000000  39211.000000   \n",
       "mean      42.120247    5441.781719    439.062789      5.108770     72.256051   \n",
       "std       12.709352   16365.292065    769.096291      9.890153    160.942593   \n",
       "min       18.000000   -8019.000000      0.000000      1.000000     -1.000000   \n",
       "25%       33.000000      98.000000    109.000000      1.000000     -1.000000   \n",
       "50%       40.000000     549.000000    197.000000      2.000000     -1.000000   \n",
       "75%       50.000000    2030.000000    380.000000      4.000000     -1.000000   \n",
       "max       95.000000  102127.000000   4918.000000     63.000000    871.000000   \n",
       "\n",
       "           previous  \n",
       "count  39211.000000  \n",
       "mean      11.826171  \n",
       "std       44.140259  \n",
       "min        0.000000  \n",
       "25%        0.000000  \n",
       "50%        0.000000  \n",
       "75%        0.000000  \n",
       "max      275.000000  "
      ]
     },
     "execution_count": 4,
     "metadata": {},
     "output_type": "execute_result"
    }
   ],
   "source": [
    "train.describe()"
   ]
  },
  {
   "cell_type": "code",
   "execution_count": 5,
   "id": "be80e1c1",
   "metadata": {
    "execution": {
     "iopub.execute_input": "2024-10-11T12:52:24.633690Z",
     "iopub.status.busy": "2024-10-11T12:52:24.632876Z",
     "iopub.status.idle": "2024-10-11T12:52:24.651525Z",
     "shell.execute_reply": "2024-10-11T12:52:24.650618Z"
    },
    "papermill": {
     "duration": 0.030261,
     "end_time": "2024-10-11T12:52:24.654204",
     "exception": false,
     "start_time": "2024-10-11T12:52:24.623943",
     "status": "completed"
    },
    "tags": []
   },
   "outputs": [],
   "source": [
    "train['last contact date'] = pd.to_datetime(train['last contact date'])"
   ]
  },
  {
   "cell_type": "code",
   "execution_count": 6,
   "id": "a1e37607",
   "metadata": {
    "execution": {
     "iopub.execute_input": "2024-10-11T12:52:24.672790Z",
     "iopub.status.busy": "2024-10-11T12:52:24.672064Z",
     "iopub.status.idle": "2024-10-11T12:52:24.719556Z",
     "shell.execute_reply": "2024-10-11T12:52:24.718101Z"
    },
    "papermill": {
     "duration": 0.05895,
     "end_time": "2024-10-11T12:52:24.722009",
     "exception": false,
     "start_time": "2024-10-11T12:52:24.663059",
     "status": "completed"
    },
    "tags": []
   },
   "outputs": [
    {
     "name": "stdout",
     "output_type": "stream",
     "text": [
      "<class 'pandas.core.frame.DataFrame'>\n",
      "RangeIndex: 39211 entries, 0 to 39210\n",
      "Data columns (total 16 columns):\n",
      " #   Column             Non-Null Count  Dtype         \n",
      "---  ------             --------------  -----         \n",
      " 0   last contact date  39211 non-null  datetime64[ns]\n",
      " 1   age                39211 non-null  int64         \n",
      " 2   job                38982 non-null  object        \n",
      " 3   marital            39211 non-null  object        \n",
      " 4   education          37744 non-null  object        \n",
      " 5   default            39211 non-null  object        \n",
      " 6   balance            39211 non-null  int64         \n",
      " 7   housing            39211 non-null  object        \n",
      " 8   loan               39211 non-null  object        \n",
      " 9   contact            28875 non-null  object        \n",
      " 10  duration           39211 non-null  int64         \n",
      " 11  campaign           39211 non-null  int64         \n",
      " 12  pdays              39211 non-null  int64         \n",
      " 13  previous           39211 non-null  int64         \n",
      " 14  poutcome           9760 non-null   object        \n",
      " 15  target             39211 non-null  object        \n",
      "dtypes: datetime64[ns](1), int64(6), object(9)\n",
      "memory usage: 4.8+ MB\n"
     ]
    }
   ],
   "source": [
    "train.info()"
   ]
  },
  {
   "cell_type": "code",
   "execution_count": 7,
   "id": "2f4c6355",
   "metadata": {
    "execution": {
     "iopub.execute_input": "2024-10-11T12:52:24.739571Z",
     "iopub.status.busy": "2024-10-11T12:52:24.739166Z",
     "iopub.status.idle": "2024-10-11T12:52:24.784293Z",
     "shell.execute_reply": "2024-10-11T12:52:24.783244Z"
    },
    "papermill": {
     "duration": 0.056702,
     "end_time": "2024-10-11T12:52:24.786669",
     "exception": false,
     "start_time": "2024-10-11T12:52:24.729967",
     "status": "completed"
    },
    "tags": []
   },
   "outputs": [
    {
     "data": {
      "text/plain": [
       "last contact date        0\n",
       "age                      0\n",
       "job                    229\n",
       "marital                  0\n",
       "education             1467\n",
       "default                  0\n",
       "balance                  0\n",
       "housing                  0\n",
       "loan                     0\n",
       "contact              10336\n",
       "duration                 0\n",
       "campaign                 0\n",
       "pdays                    0\n",
       "previous                 0\n",
       "poutcome             29451\n",
       "target                   0\n",
       "dtype: int64"
      ]
     },
     "execution_count": 7,
     "metadata": {},
     "output_type": "execute_result"
    }
   ],
   "source": [
    "train.isna().sum()"
   ]
  },
  {
   "cell_type": "markdown",
   "id": "6996c0e6",
   "metadata": {
    "papermill": {
     "duration": 0.007767,
     "end_time": "2024-10-11T12:52:24.803007",
     "exception": false,
     "start_time": "2024-10-11T12:52:24.795240",
     "status": "completed"
    },
    "tags": []
   },
   "source": [
    "## EDA"
   ]
  },
  {
   "cell_type": "code",
   "execution_count": 8,
   "id": "896474c3",
   "metadata": {
    "execution": {
     "iopub.execute_input": "2024-10-11T12:52:24.820920Z",
     "iopub.status.busy": "2024-10-11T12:52:24.820495Z",
     "iopub.status.idle": "2024-10-11T12:52:24.825645Z",
     "shell.execute_reply": "2024-10-11T12:52:24.824576Z"
    },
    "papermill": {
     "duration": 0.017119,
     "end_time": "2024-10-11T12:52:24.828211",
     "exception": false,
     "start_time": "2024-10-11T12:52:24.811092",
     "status": "completed"
    },
    "tags": []
   },
   "outputs": [],
   "source": [
    "oe=OrdinalEncoder()"
   ]
  },
  {
   "cell_type": "code",
   "execution_count": 9,
   "id": "5b22f9c9",
   "metadata": {
    "execution": {
     "iopub.execute_input": "2024-10-11T12:52:24.846141Z",
     "iopub.status.busy": "2024-10-11T12:52:24.845693Z",
     "iopub.status.idle": "2024-10-11T12:52:24.997261Z",
     "shell.execute_reply": "2024-10-11T12:52:24.995665Z"
    },
    "papermill": {
     "duration": 0.16326,
     "end_time": "2024-10-11T12:52:24.999684",
     "exception": false,
     "start_time": "2024-10-11T12:52:24.836424",
     "status": "completed"
    },
    "tags": []
   },
   "outputs": [
    {
     "name": "stdout",
     "output_type": "stream",
     "text": [
      "<class 'pandas.core.frame.DataFrame'>\n",
      "RangeIndex: 39211 entries, 0 to 39210\n",
      "Data columns (total 16 columns):\n",
      " #   Column             Non-Null Count  Dtype         \n",
      "---  ------             --------------  -----         \n",
      " 0   last contact date  39211 non-null  datetime64[ns]\n",
      " 1   age                39211 non-null  int64         \n",
      " 2   job                38982 non-null  float64       \n",
      " 3   marital            39211 non-null  float64       \n",
      " 4   education          37744 non-null  float64       \n",
      " 5   default            39211 non-null  float64       \n",
      " 6   balance            39211 non-null  int64         \n",
      " 7   housing            39211 non-null  float64       \n",
      " 8   loan               39211 non-null  float64       \n",
      " 9   contact            28875 non-null  float64       \n",
      " 10  duration           39211 non-null  int64         \n",
      " 11  campaign           39211 non-null  int64         \n",
      " 12  pdays              39211 non-null  int64         \n",
      " 13  previous           39211 non-null  int64         \n",
      " 14  poutcome           9760 non-null   float64       \n",
      " 15  target             39211 non-null  float64       \n",
      "dtypes: datetime64[ns](1), float64(9), int64(6)\n",
      "memory usage: 4.8 MB\n"
     ]
    }
   ],
   "source": [
    "for i in train.columns:\n",
    "    if train[i].dtype == 'object':\n",
    "        train[i]=oe.fit_transform(train[[i]])\n",
    "train.info()        "
   ]
  },
  {
   "cell_type": "code",
   "execution_count": 10,
   "id": "6a47abd1",
   "metadata": {
    "execution": {
     "iopub.execute_input": "2024-10-11T12:52:25.018402Z",
     "iopub.status.busy": "2024-10-11T12:52:25.017486Z",
     "iopub.status.idle": "2024-10-11T12:52:26.092187Z",
     "shell.execute_reply": "2024-10-11T12:52:26.091054Z"
    },
    "papermill": {
     "duration": 1.088364,
     "end_time": "2024-10-11T12:52:26.096441",
     "exception": false,
     "start_time": "2024-10-11T12:52:25.008077",
     "status": "completed"
    },
    "tags": []
   },
   "outputs": [
    {
     "data": {
      "image/png": "[encoded data removed]",
      "text/plain": [
       "<Figure size 1000x800 with 2 Axes>"
      ]
     },
     "metadata": {},
     "output_type": "display_data"
    }
   ],
   "source": [
    "corr=train.corr()\n",
    "plt.figure(figsize=(10, 8))\n",
    "sns.heatmap(corr, annot=True, cmap='coolwarm', fmt='.2f')\n",
    "plt.show()"
   ]
  },
  {
   "cell_type": "code",
   "execution_count": 11,
   "id": "f81363f2",
   "metadata": {
    "execution": {
     "iopub.execute_input": "2024-10-11T12:52:26.120988Z",
     "iopub.status.busy": "2024-10-11T12:52:26.120221Z",
     "iopub.status.idle": "2024-10-11T12:52:26.128666Z",
     "shell.execute_reply": "2024-10-11T12:52:26.127835Z"
    },
    "papermill": {
     "duration": 0.023221,
     "end_time": "2024-10-11T12:52:26.130818",
     "exception": false,
     "start_time": "2024-10-11T12:52:26.107597",
     "status": "completed"
    },
    "tags": []
   },
   "outputs": [],
   "source": [
    "# train.drop('housing',axis=1,inplace=True)\n",
    "train.drop('poutcome',axis=1,inplace=True) #dropping this as it contained unecpectedly big amount of null values."
   ]
  },
  {
   "cell_type": "code",
   "execution_count": 12,
   "id": "b149323a",
   "metadata": {
    "execution": {
     "iopub.execute_input": "2024-10-11T12:52:26.155488Z",
     "iopub.status.busy": "2024-10-11T12:52:26.154482Z",
     "iopub.status.idle": "2024-10-11T12:52:26.183317Z",
     "shell.execute_reply": "2024-10-11T12:52:26.182199Z"
    },
    "papermill": {
     "duration": 0.043494,
     "end_time": "2024-10-11T12:52:26.185465",
     "exception": false,
     "start_time": "2024-10-11T12:52:26.141971",
     "status": "completed"
    },
    "tags": []
   },
   "outputs": [
    {
     "data": {
      "text/html": [
       "<div>\n",
       "<style scoped>\n",
       "    .dataframe tbody tr th:only-of-type {\n",
       "        vertical-align: middle;\n",
       "    }\n",
       "\n",
       "    .dataframe tbody tr th {\n",
       "        vertical-align: top;\n",
       "    }\n",
       "\n",
       "    .dataframe thead th {\n",
       "        text-align: right;\n",
       "    }\n",
       "</style>\n",
       "<table border=\"1\" class=\"dataframe\">\n",
       "  <thead>\n",
       "    <tr style=\"text-align: right;\">\n",
       "      <th></th>\n",
       "      <th>last contact date</th>\n",
       "      <th>age</th>\n",
       "      <th>job</th>\n",
       "      <th>marital</th>\n",
       "      <th>education</th>\n",
       "      <th>default</th>\n",
       "      <th>balance</th>\n",
       "      <th>housing</th>\n",
       "      <th>loan</th>\n",
       "      <th>contact</th>\n",
       "      <th>duration</th>\n",
       "      <th>campaign</th>\n",
       "      <th>pdays</th>\n",
       "      <th>previous</th>\n",
       "      <th>target</th>\n",
       "    </tr>\n",
       "  </thead>\n",
       "  <tbody>\n",
       "    <tr>\n",
       "      <th>0</th>\n",
       "      <td>2009-04-17</td>\n",
       "      <td>26</td>\n",
       "      <td>1.0</td>\n",
       "      <td>1.0</td>\n",
       "      <td>1.0</td>\n",
       "      <td>0.0</td>\n",
       "      <td>647</td>\n",
       "      <td>1.0</td>\n",
       "      <td>0.0</td>\n",
       "      <td>0.0</td>\n",
       "      <td>357</td>\n",
       "      <td>2</td>\n",
       "      <td>331</td>\n",
       "      <td>1</td>\n",
       "      <td>0.0</td>\n",
       "    </tr>\n",
       "    <tr>\n",
       "      <th>1</th>\n",
       "      <td>2009-10-11</td>\n",
       "      <td>52</td>\n",
       "      <td>9.0</td>\n",
       "      <td>1.0</td>\n",
       "      <td>1.0</td>\n",
       "      <td>0.0</td>\n",
       "      <td>553</td>\n",
       "      <td>1.0</td>\n",
       "      <td>0.0</td>\n",
       "      <td>1.0</td>\n",
       "      <td>160</td>\n",
       "      <td>1</td>\n",
       "      <td>-1</td>\n",
       "      <td>0</td>\n",
       "      <td>0.0</td>\n",
       "    </tr>\n",
       "    <tr>\n",
       "      <th>2</th>\n",
       "      <td>2010-11-20</td>\n",
       "      <td>44</td>\n",
       "      <td>1.0</td>\n",
       "      <td>1.0</td>\n",
       "      <td>1.0</td>\n",
       "      <td>0.0</td>\n",
       "      <td>1397</td>\n",
       "      <td>0.0</td>\n",
       "      <td>0.0</td>\n",
       "      <td>0.0</td>\n",
       "      <td>326</td>\n",
       "      <td>1</td>\n",
       "      <td>-1</td>\n",
       "      <td>0</td>\n",
       "      <td>0.0</td>\n",
       "    </tr>\n",
       "    <tr>\n",
       "      <th>3</th>\n",
       "      <td>2009-09-01</td>\n",
       "      <td>33</td>\n",
       "      <td>0.0</td>\n",
       "      <td>1.0</td>\n",
       "      <td>1.0</td>\n",
       "      <td>0.0</td>\n",
       "      <td>394</td>\n",
       "      <td>1.0</td>\n",
       "      <td>0.0</td>\n",
       "      <td>1.0</td>\n",
       "      <td>104</td>\n",
       "      <td>3</td>\n",
       "      <td>-1</td>\n",
       "      <td>0</td>\n",
       "      <td>0.0</td>\n",
       "    </tr>\n",
       "    <tr>\n",
       "      <th>4</th>\n",
       "      <td>2008-01-29</td>\n",
       "      <td>31</td>\n",
       "      <td>2.0</td>\n",
       "      <td>2.0</td>\n",
       "      <td>2.0</td>\n",
       "      <td>0.0</td>\n",
       "      <td>137</td>\n",
       "      <td>0.0</td>\n",
       "      <td>0.0</td>\n",
       "      <td>0.0</td>\n",
       "      <td>445</td>\n",
       "      <td>2</td>\n",
       "      <td>-1</td>\n",
       "      <td>0</td>\n",
       "      <td>0.0</td>\n",
       "    </tr>\n",
       "    <tr>\n",
       "      <th>...</th>\n",
       "      <td>...</td>\n",
       "      <td>...</td>\n",
       "      <td>...</td>\n",
       "      <td>...</td>\n",
       "      <td>...</td>\n",
       "      <td>...</td>\n",
       "      <td>...</td>\n",
       "      <td>...</td>\n",
       "      <td>...</td>\n",
       "      <td>...</td>\n",
       "      <td>...</td>\n",
       "      <td>...</td>\n",
       "      <td>...</td>\n",
       "      <td>...</td>\n",
       "      <td>...</td>\n",
       "    </tr>\n",
       "    <tr>\n",
       "      <th>39206</th>\n",
       "      <td>2008-07-31</td>\n",
       "      <td>31</td>\n",
       "      <td>9.0</td>\n",
       "      <td>2.0</td>\n",
       "      <td>1.0</td>\n",
       "      <td>0.0</td>\n",
       "      <td>0</td>\n",
       "      <td>1.0</td>\n",
       "      <td>0.0</td>\n",
       "      <td>0.0</td>\n",
       "      <td>16</td>\n",
       "      <td>34</td>\n",
       "      <td>-1</td>\n",
       "      <td>0</td>\n",
       "      <td>0.0</td>\n",
       "    </tr>\n",
       "    <tr>\n",
       "      <th>39207</th>\n",
       "      <td>2009-07-31</td>\n",
       "      <td>59</td>\n",
       "      <td>0.0</td>\n",
       "      <td>1.0</td>\n",
       "      <td>0.0</td>\n",
       "      <td>0.0</td>\n",
       "      <td>6187</td>\n",
       "      <td>0.0</td>\n",
       "      <td>0.0</td>\n",
       "      <td>0.0</td>\n",
       "      <td>114</td>\n",
       "      <td>4</td>\n",
       "      <td>-1</td>\n",
       "      <td>0</td>\n",
       "      <td>0.0</td>\n",
       "    </tr>\n",
       "    <tr>\n",
       "      <th>39208</th>\n",
       "      <td>2008-06-02</td>\n",
       "      <td>36</td>\n",
       "      <td>1.0</td>\n",
       "      <td>1.0</td>\n",
       "      <td>1.0</td>\n",
       "      <td>0.0</td>\n",
       "      <td>63</td>\n",
       "      <td>1.0</td>\n",
       "      <td>0.0</td>\n",
       "      <td>NaN</td>\n",
       "      <td>56</td>\n",
       "      <td>8</td>\n",
       "      <td>-1</td>\n",
       "      <td>0</td>\n",
       "      <td>0.0</td>\n",
       "    </tr>\n",
       "    <tr>\n",
       "      <th>39209</th>\n",
       "      <td>2010-03-20</td>\n",
       "      <td>28</td>\n",
       "      <td>8.0</td>\n",
       "      <td>2.0</td>\n",
       "      <td>1.0</td>\n",
       "      <td>0.0</td>\n",
       "      <td>5916</td>\n",
       "      <td>0.0</td>\n",
       "      <td>0.0</td>\n",
       "      <td>0.0</td>\n",
       "      <td>93</td>\n",
       "      <td>5</td>\n",
       "      <td>-1</td>\n",
       "      <td>0</td>\n",
       "      <td>0.0</td>\n",
       "    </tr>\n",
       "    <tr>\n",
       "      <th>39210</th>\n",
       "      <td>2010-03-16</td>\n",
       "      <td>51</td>\n",
       "      <td>8.0</td>\n",
       "      <td>0.0</td>\n",
       "      <td>2.0</td>\n",
       "      <td>1.0</td>\n",
       "      <td>38594</td>\n",
       "      <td>1.0</td>\n",
       "      <td>0.0</td>\n",
       "      <td>0.0</td>\n",
       "      <td>1877</td>\n",
       "      <td>19</td>\n",
       "      <td>780</td>\n",
       "      <td>148</td>\n",
       "      <td>1.0</td>\n",
       "    </tr>\n",
       "  </tbody>\n",
       "</table>\n",
       "<p>39211 rows × 15 columns</p>\n",
       "</div>"
      ],
      "text/plain": [
       "      last contact date  age  job  marital  education  default  balance  \\\n",
       "0            2009-04-17   26  1.0      1.0        1.0      0.0      647   \n",
       "1            2009-10-11   52  9.0      1.0        1.0      0.0      553   \n",
       "2            2010-11-20   44  1.0      1.0        1.0      0.0     1397   \n",
       "3            2009-09-01   33  0.0      1.0        1.0      0.0      394   \n",
       "4            2008-01-29   31  2.0      2.0        2.0      0.0      137   \n",
       "...                 ...  ...  ...      ...        ...      ...      ...   \n",
       "39206        2008-07-31   31  9.0      2.0        1.0      0.0        0   \n",
       "39207        2009-07-31   59  0.0      1.0        0.0      0.0     6187   \n",
       "39208        2008-06-02   36  1.0      1.0        1.0      0.0       63   \n",
       "39209        2010-03-20   28  8.0      2.0        1.0      0.0     5916   \n",
       "39210        2010-03-16   51  8.0      0.0        2.0      1.0    38594   \n",
       "\n",
       "       housing  loan  contact  duration  campaign  pdays  previous  target  \n",
       "0          1.0   0.0      0.0       357         2    331         1     0.0  \n",
       "1          1.0   0.0      1.0       160         1     -1         0     0.0  \n",
       "2          0.0   0.0      0.0       326         1     -1         0     0.0  \n",
       "3          1.0   0.0      1.0       104         3     -1         0     0.0  \n",
       "4          0.0   0.0      0.0       445         2     -1         0     0.0  \n",
       "...        ...   ...      ...       ...       ...    ...       ...     ...  \n",
       "39206      1.0   0.0      0.0        16        34     -1         0     0.0  \n",
       "39207      0.0   0.0      0.0       114         4     -1         0     0.0  \n",
       "39208      1.0   0.0      NaN        56         8     -1         0     0.0  \n",
       "39209      0.0   0.0      0.0        93         5     -1         0     0.0  \n",
       "39210      1.0   0.0      0.0      1877        19    780       148     1.0  \n",
       "\n",
       "[39211 rows x 15 columns]"
      ]
     },
     "execution_count": 12,
     "metadata": {},
     "output_type": "execute_result"
    }
   ],
   "source": [
    "train"
   ]
  },
  {
   "cell_type": "markdown",
   "id": "6700b3f1",
   "metadata": {
    "papermill": {
     "duration": 0.011322,
     "end_time": "2024-10-11T12:52:26.208448",
     "exception": false,
     "start_time": "2024-10-11T12:52:26.197126",
     "status": "completed"
    },
    "tags": []
   },
   "source": [
    "the dataset now only contains the columns that are positively correlated to the target."
   ]
  },
  {
   "cell_type": "markdown",
   "id": "fad0b0ff",
   "metadata": {
    "papermill": {
     "duration": 0.011421,
     "end_time": "2024-10-11T12:52:26.231720",
     "exception": false,
     "start_time": "2024-10-11T12:52:26.220299",
     "status": "completed"
    },
    "tags": []
   },
   "source": [
    "## claning the empty values."
   ]
  },
  {
   "cell_type": "code",
   "execution_count": 13,
   "id": "6c5f152c",
   "metadata": {
    "execution": {
     "iopub.execute_input": "2024-10-11T12:52:26.256745Z",
     "iopub.status.busy": "2024-10-11T12:52:26.256320Z",
     "iopub.status.idle": "2024-10-11T12:52:26.266670Z",
     "shell.execute_reply": "2024-10-11T12:52:26.265561Z"
    },
    "papermill": {
     "duration": 0.025737,
     "end_time": "2024-10-11T12:52:26.269284",
     "exception": false,
     "start_time": "2024-10-11T12:52:26.243547",
     "status": "completed"
    },
    "tags": []
   },
   "outputs": [
    {
     "data": {
      "text/plain": [
       "last contact date        0\n",
       "age                      0\n",
       "job                    229\n",
       "marital                  0\n",
       "education             1467\n",
       "default                  0\n",
       "balance                  0\n",
       "housing                  0\n",
       "loan                     0\n",
       "contact              10336\n",
       "duration                 0\n",
       "campaign                 0\n",
       "pdays                    0\n",
       "previous                 0\n",
       "target                   0\n",
       "dtype: int64"
      ]
     },
     "execution_count": 13,
     "metadata": {},
     "output_type": "execute_result"
    }
   ],
   "source": [
    "train.isna().sum()"
   ]
  },
  {
   "cell_type": "markdown",
   "id": "00c979d6",
   "metadata": {
    "papermill": {
     "duration": 0.011771,
     "end_time": "2024-10-11T12:52:26.293120",
     "exception": false,
     "start_time": "2024-10-11T12:52:26.281349",
     "status": "completed"
    },
    "tags": []
   },
   "source": [
    "## TTS"
   ]
  },
  {
   "cell_type": "code",
   "execution_count": null,
   "id": "c8063693",
   "metadata": {
    "papermill": {
     "duration": 0.011722,
     "end_time": "2024-10-11T12:52:26.316872",
     "exception": false,
     "start_time": "2024-10-11T12:52:26.305150",
     "status": "completed"
    },
    "tags": []
   },
   "outputs": [],
   "source": []
  },
  {
   "cell_type": "markdown",
   "id": "8acaf7e4",
   "metadata": {
    "papermill": {
     "duration": 0.011618,
     "end_time": "2024-10-11T12:52:26.340240",
     "exception": false,
     "start_time": "2024-10-11T12:52:26.328622",
     "status": "completed"
    },
    "tags": []
   },
   "source": [
    "## POSSIBLE MODELS.\n",
    "**1. KNN algorithm**\n",
    "\n",
    "**2. decision tree**\n",
    "\n",
    "**3. Logistic Regression**\n",
    "\n",
    "**4. SVM**\n",
    "\n",
    "**5. Perceptron**"
   ]
  },
  {
   "cell_type": "markdown",
   "id": "b6e80853",
   "metadata": {
    "papermill": {
     "duration": 0.011485,
     "end_time": "2024-10-11T12:52:26.363610",
     "exception": false,
     "start_time": "2024-10-11T12:52:26.352125",
     "status": "completed"
    },
    "tags": []
   },
   "source": [
    "## Crude workflow.\n",
    "1. perform EDA-cum-Dimensionaltity reduction.\n",
    "2. standarsise the data if not in the first step.\n",
    "3. make the models \n",
    "4. tarin the models on the data \n",
    "5. test the models \n",
    "6. then decide the best one"
   ]
  }
 ],
 "metadata": {
  "kaggle": {
   "accelerator": "none",
   "dataSources": [
    {
     "databundleVersionId": 9578279,
     "sourceId": 85062,
     "sourceType": "competition"
    }
   ],
   "dockerImageVersionId": 30775,
   "isGpuEnabled": false,
   "isInternetEnabled": false,
   "language": "python",
   "sourceType": "notebook"
  },
  "kernelspec": {
   "display_name": "Python 3",
   "language": "python",
   "name": "python3"
  },
  "language_info": {
   "codemirror_mode": {
    "name": "ipython",
    "version": 3
   },
   "file_extension": ".py",
   "mimetype": "text/x-python",
   "name": "python",
   "nbconvert_exporter": "python",
   "pygments_lexer": "ipython3",
   "version": "3.10.14"
  },
  "papermill": {
   "default_parameters": {},
   "duration": 8.154907,
   "end_time": "2024-10-11T12:52:27.096547",
   "environment_variables": {},
   "exception": null,
   "input_path": "__notebook__.ipynb",
   "output_path": "__notebook__.ipynb",
   "parameters": {},
   "start_time": "2024-10-11T12:52:18.941640",
   "version": "2.6.0"
  }
 },
 "nbformat": 4,
 "nbformat_minor": 5
}
