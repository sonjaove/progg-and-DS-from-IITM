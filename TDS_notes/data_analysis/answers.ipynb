{
 "cells": [
  {
   "cell_type": "code",
   "execution_count": 1,
   "metadata": {},
   "outputs": [],
   "source": [
    "import pandas as pd\n",
    "import numpy as np\n",
    "import matplotlib.pyplot as plt\n",
    "import scipy.stats as stats"
   ]
  },
  {
   "cell_type": "code",
   "execution_count": 2,
   "metadata": {},
   "outputs": [
    {
     "data": {
      "text/html": [
       "<div>\n",
       "<style scoped>\n",
       "    .dataframe tbody tr th:only-of-type {\n",
       "        vertical-align: middle;\n",
       "    }\n",
       "\n",
       "    .dataframe tbody tr th {\n",
       "        vertical-align: top;\n",
       "    }\n",
       "\n",
       "    .dataframe thead th {\n",
       "        text-align: right;\n",
       "    }\n",
       "</style>\n",
       "<table border=\"1\" class=\"dataframe\">\n",
       "  <thead>\n",
       "    <tr style=\"text-align: right;\">\n",
       "      <th></th>\n",
       "      <th>DEPARTURE_DELAY</th>\n",
       "      <th>ARRIVAL_DELAY</th>\n",
       "      <th>DISTANCE</th>\n",
       "      <th>SCHEDULED_DEPARTURE</th>\n",
       "    </tr>\n",
       "  </thead>\n",
       "  <tbody>\n",
       "    <tr>\n",
       "      <th>0</th>\n",
       "      <td>-11.0</td>\n",
       "      <td>-22.0</td>\n",
       "      <td>1448</td>\n",
       "      <td>0.083333</td>\n",
       "    </tr>\n",
       "    <tr>\n",
       "      <th>1</th>\n",
       "      <td>-8.0</td>\n",
       "      <td>-9.0</td>\n",
       "      <td>2330</td>\n",
       "      <td>0.166667</td>\n",
       "    </tr>\n",
       "    <tr>\n",
       "      <th>2</th>\n",
       "      <td>-2.0</td>\n",
       "      <td>5.0</td>\n",
       "      <td>2296</td>\n",
       "      <td>0.333333</td>\n",
       "    </tr>\n",
       "    <tr>\n",
       "      <th>3</th>\n",
       "      <td>-5.0</td>\n",
       "      <td>-9.0</td>\n",
       "      <td>2342</td>\n",
       "      <td>0.333333</td>\n",
       "    </tr>\n",
       "    <tr>\n",
       "      <th>4</th>\n",
       "      <td>-1.0</td>\n",
       "      <td>-21.0</td>\n",
       "      <td>1448</td>\n",
       "      <td>0.416667</td>\n",
       "    </tr>\n",
       "    <tr>\n",
       "      <th>...</th>\n",
       "      <td>...</td>\n",
       "      <td>...</td>\n",
       "      <td>...</td>\n",
       "      <td>...</td>\n",
       "    </tr>\n",
       "    <tr>\n",
       "      <th>5714003</th>\n",
       "      <td>-4.0</td>\n",
       "      <td>-26.0</td>\n",
       "      <td>2611</td>\n",
       "      <td>23.983333</td>\n",
       "    </tr>\n",
       "    <tr>\n",
       "      <th>5714004</th>\n",
       "      <td>-4.0</td>\n",
       "      <td>-16.0</td>\n",
       "      <td>1617</td>\n",
       "      <td>23.983333</td>\n",
       "    </tr>\n",
       "    <tr>\n",
       "      <th>5714005</th>\n",
       "      <td>-9.0</td>\n",
       "      <td>-8.0</td>\n",
       "      <td>1598</td>\n",
       "      <td>23.983333</td>\n",
       "    </tr>\n",
       "    <tr>\n",
       "      <th>5714006</th>\n",
       "      <td>-6.0</td>\n",
       "      <td>-10.0</td>\n",
       "      <td>1189</td>\n",
       "      <td>23.983333</td>\n",
       "    </tr>\n",
       "    <tr>\n",
       "      <th>5714007</th>\n",
       "      <td>15.0</td>\n",
       "      <td>2.0</td>\n",
       "      <td>1576</td>\n",
       "      <td>23.983333</td>\n",
       "    </tr>\n",
       "  </tbody>\n",
       "</table>\n",
       "<p>5714008 rows × 4 columns</p>\n",
       "</div>"
      ],
      "text/plain": [
       "         DEPARTURE_DELAY  ARRIVAL_DELAY  DISTANCE  SCHEDULED_DEPARTURE\n",
       "0                  -11.0          -22.0      1448             0.083333\n",
       "1                   -8.0           -9.0      2330             0.166667\n",
       "2                   -2.0            5.0      2296             0.333333\n",
       "3                   -5.0           -9.0      2342             0.333333\n",
       "4                   -1.0          -21.0      1448             0.416667\n",
       "...                  ...            ...       ...                  ...\n",
       "5714003             -4.0          -26.0      2611            23.983333\n",
       "5714004             -4.0          -16.0      1617            23.983333\n",
       "5714005             -9.0           -8.0      1598            23.983333\n",
       "5714006             -6.0          -10.0      1189            23.983333\n",
       "5714007             15.0            2.0      1576            23.983333\n",
       "\n",
       "[5714008 rows x 4 columns]"
      ]
     },
     "execution_count": 2,
     "metadata": {},
     "output_type": "execute_result"
    }
   ],
   "source": [
    "df=pd.read_parquet('flights.parquet')\n",
    "df=df.dropna(ignore_index=True)\n",
    "df"
   ]
  },
  {
   "cell_type": "code",
   "execution_count": 3,
   "metadata": {},
   "outputs": [],
   "source": [
    "df_filter = df[(df['DISTANCE'] < 1800) & (18.00 < df['SCHEDULED_DEPARTURE']) & (df['SCHEDULED_DEPARTURE'] <19.00)]\n",
    "df_filter.isna().sum()\n",
    "df_filter = df_filter.dropna(ignore_index=True)"
   ]
  },
  {
   "cell_type": "markdown",
   "metadata": {},
   "source": [
    "df_filter.fillna(0, inplace=True)\n",
    "df_filter.isna().sum()"
   ]
  },
  {
   "cell_type": "code",
   "execution_count": 4,
   "metadata": {},
   "outputs": [
    {
     "data": {
      "text/html": [
       "<div>\n",
       "<style scoped>\n",
       "    .dataframe tbody tr th:only-of-type {\n",
       "        vertical-align: middle;\n",
       "    }\n",
       "\n",
       "    .dataframe tbody tr th {\n",
       "        vertical-align: top;\n",
       "    }\n",
       "\n",
       "    .dataframe thead th {\n",
       "        text-align: right;\n",
       "    }\n",
       "</style>\n",
       "<table border=\"1\" class=\"dataframe\">\n",
       "  <thead>\n",
       "    <tr style=\"text-align: right;\">\n",
       "      <th></th>\n",
       "      <th>DEPARTURE_DELAY</th>\n",
       "      <th>ARRIVAL_DELAY</th>\n",
       "      <th>DISTANCE</th>\n",
       "    </tr>\n",
       "    <tr>\n",
       "      <th>SCHEDULED_DEPARTURE</th>\n",
       "      <th></th>\n",
       "      <th></th>\n",
       "      <th></th>\n",
       "    </tr>\n",
       "  </thead>\n",
       "  <tbody>\n",
       "    <tr>\n",
       "      <th>9.016667</th>\n",
       "      <td>6.560976</td>\n",
       "      <td>0.762195</td>\n",
       "      <td>214.993902</td>\n",
       "    </tr>\n",
       "    <tr>\n",
       "      <th>9.033333</th>\n",
       "      <td>0.996855</td>\n",
       "      <td>1.154088</td>\n",
       "      <td>207.207547</td>\n",
       "    </tr>\n",
       "    <tr>\n",
       "      <th>9.050000</th>\n",
       "      <td>6.901163</td>\n",
       "      <td>4.709302</td>\n",
       "      <td>160.825581</td>\n",
       "    </tr>\n",
       "    <tr>\n",
       "      <th>9.066667</th>\n",
       "      <td>8.957230</td>\n",
       "      <td>6.802444</td>\n",
       "      <td>211.482688</td>\n",
       "    </tr>\n",
       "    <tr>\n",
       "      <th>9.083333</th>\n",
       "      <td>5.118832</td>\n",
       "      <td>3.733139</td>\n",
       "      <td>192.789197</td>\n",
       "    </tr>\n",
       "    <tr>\n",
       "      <th>...</th>\n",
       "      <td>...</td>\n",
       "      <td>...</td>\n",
       "      <td>...</td>\n",
       "    </tr>\n",
       "    <tr>\n",
       "      <th>16.916667</th>\n",
       "      <td>9.428127</td>\n",
       "      <td>6.155494</td>\n",
       "      <td>203.013131</td>\n",
       "    </tr>\n",
       "    <tr>\n",
       "      <th>16.933333</th>\n",
       "      <td>9.007444</td>\n",
       "      <td>3.513648</td>\n",
       "      <td>141.200993</td>\n",
       "    </tr>\n",
       "    <tr>\n",
       "      <th>16.950000</th>\n",
       "      <td>7.108225</td>\n",
       "      <td>4.932900</td>\n",
       "      <td>159.911255</td>\n",
       "    </tr>\n",
       "    <tr>\n",
       "      <th>16.966667</th>\n",
       "      <td>8.590090</td>\n",
       "      <td>8.229730</td>\n",
       "      <td>190.360360</td>\n",
       "    </tr>\n",
       "    <tr>\n",
       "      <th>16.983333</th>\n",
       "      <td>9.437803</td>\n",
       "      <td>6.559774</td>\n",
       "      <td>183.901454</td>\n",
       "    </tr>\n",
       "  </tbody>\n",
       "</table>\n",
       "<p>479 rows × 3 columns</p>\n",
       "</div>"
      ],
      "text/plain": [
       "                     DEPARTURE_DELAY  ARRIVAL_DELAY    DISTANCE\n",
       "SCHEDULED_DEPARTURE                                            \n",
       "9.016667                    6.560976       0.762195  214.993902\n",
       "9.033333                    0.996855       1.154088  207.207547\n",
       "9.050000                    6.901163       4.709302  160.825581\n",
       "9.066667                    8.957230       6.802444  211.482688\n",
       "9.083333                    5.118832       3.733139  192.789197\n",
       "...                              ...            ...         ...\n",
       "16.916667                   9.428127       6.155494  203.013131\n",
       "16.933333                   9.007444       3.513648  141.200993\n",
       "16.950000                   7.108225       4.932900  159.911255\n",
       "16.966667                   8.590090       8.229730  190.360360\n",
       "16.983333                   9.437803       6.559774  183.901454\n",
       "\n",
       "[479 rows x 3 columns]"
      ]
     },
     "execution_count": 4,
     "metadata": {},
     "output_type": "execute_result"
    }
   ],
   "source": [
    "df_group=df_filter.groupby('SCHEDULED_DEPARTURE').mean()\n",
    "df_group"
   ]
  },
  {
   "cell_type": "markdown",
   "metadata": {},
   "source": [
    "dip_delay with schedued_dep and arrival with scheduled_Dep."
   ]
  },
  {
   "cell_type": "code",
   "execution_count": 5,
   "metadata": {},
   "outputs": [
    {
     "data": {
      "text/plain": [
       "0.00915234315639779"
      ]
     },
     "execution_count": 5,
     "metadata": {},
     "output_type": "execute_result"
    }
   ],
   "source": [
    "pearson_correlation1, p_value = stats.pearsonr(df_filter['DEPARTURE_DELAY'], df_filter['ARRIVAL_DELAY'])\n",
    "pearson_correlation2, p_value = stats.pearsonr(df['DEPARTURE_DELAY'], df['ARRIVAL_DELAY'])\n",
    "abs(pearson_correlation1-pearson_correlation2)"
   ]
  },
  {
   "cell_type": "code",
   "execution_count": null,
   "metadata": {},
   "outputs": [],
   "source": [
    "df_filter.quantile(df))"
   ]
  },
  {
   "cell_type": "code",
   "execution_count": 6,
   "metadata": {},
   "outputs": [
    {
     "data": {
      "text/plain": [
       "{'whiskers': [<matplotlib.lines.Line2D at 0x1cd42abbe00>,\n",
       "  <matplotlib.lines.Line2D at 0x1cd42af4140>],\n",
       " 'caps': [<matplotlib.lines.Line2D at 0x1cd42af43b0>,\n",
       "  <matplotlib.lines.Line2D at 0x1cd42af46b0>],\n",
       " 'boxes': [<matplotlib.lines.Line2D at 0x1cd4290f380>],\n",
       " 'medians': [<matplotlib.lines.Line2D at 0x1cd42af49b0>],\n",
       " 'fliers': [<matplotlib.lines.Line2D at 0x1cd42af4cb0>],\n",
       " 'means': []}"
      ]
     },
     "execution_count": 6,
     "metadata": {},
     "output_type": "execute_result"
    },
    {
     "data": {
      "image/png": "[encoded data removed]",
      "text/plain": [
       "<Figure size 640x480 with 1 Axes>"
      ]
     },
     "metadata": {},
     "output_type": "display_data"
    }
   ],
   "source": [
    "#making the box plot for the filtered data\n"
   ]
  },
  {
   "cell_type": "code",
   "execution_count": null,
   "metadata": {},
   "outputs": [],
   "source": []
  }
 ],
 "metadata": {
  "kernelspec": {
   "display_name": "stenv",
   "language": "python",
   "name": "python3"
  },
  "language_info": {
   "codemirror_mode": {
    "name": "ipython",
    "version": 3
   },
   "file_extension": ".py",
   "mimetype": "text/x-python",
   "name": "python",
   "nbconvert_exporter": "python",
   "pygments_lexer": "ipython3",
   "version": "3.12.3"
  }
 },
 "nbformat": 4,
 "nbformat_minor": 2
}
